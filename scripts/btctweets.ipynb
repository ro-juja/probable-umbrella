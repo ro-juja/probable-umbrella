{
 "cells": [
  {
   "cell_type": "code",
   "execution_count": 2,
   "id": "2e1355f2-c595-47aa-98e5-1b689122d31b",
   "metadata": {},
   "outputs": [],
   "source": [
    "import tweepy\n",
    "import pandas as pd"
   ]
  },
  {
   "cell_type": "code",
   "execution_count": 3,
   "id": "7bd855cd-34fa-4a68-b9d7-34a79b15eeb2",
   "metadata": {},
   "outputs": [],
   "source": [
    "api_key = ''\n",
    "api_key_secret = ''"
   ]
  },
  {
   "cell_type": "code",
   "execution_count": 4,
   "id": "85f43b50-0b97-426b-87ec-27e5ea2c24a6",
   "metadata": {},
   "outputs": [],
   "source": [
    "access_token = ''\n",
    "access_token_secret = ''"
   ]
  },
  {
   "cell_type": "code",
   "execution_count": 5,
   "id": "692e0354-cdd9-43db-a209-4d622d1d0416",
   "metadata": {},
   "outputs": [],
   "source": [
    "auth = tweepy.OAuthHandler(api_key, api_key_secret)\n",
    "auth.set_access_token(access_token, access_token_secret)\n",
    "\n",
    "api = tweepy.API(auth)"
   ]
  },
  {
   "cell_type": "code",
   "execution_count": 40,
   "id": "6159a041-c9d1-4488-aff3-03b2b63f3a91",
   "metadata": {},
   "outputs": [],
   "source": [
    "keywords = '#bitcoin'\n",
    "limit=500\n",
    "\n",
    "tweets = tweepy.Cursor(api.search_tweets, lang= 'en' , q=keywords, count=100, tweet_mode='extended').items(limit)"
   ]
  },
  {
   "cell_type": "code",
   "execution_count": 41,
   "id": "9e41b12c-dacd-44f3-9ba6-9d8321c24b55",
   "metadata": {},
   "outputs": [
    {
     "name": "stdout",
     "output_type": "stream",
     "text": [
      "               User                                              Tweet  \\\n",
      "0     Denis38330305  RT @PeterSchiff: #Russians who are looking to ...   \n",
      "1       BalchRoxann  @RubemRo64827786 #Bitcoin \\n#WORDWIDE\\nJoin Th...   \n",
      "2           CoinKev  RT @ICOffenderII: Stack that \"Doom\"\\n#Bitcoin\\...   \n",
      "3      AllesUndNix_  RT @xanh_crypto: @cryptogems555 Secured ship (...   \n",
      "4       xanh_crypto  @cryptogems555 Secured ship (SHIP) is trending...   \n",
      "..              ...                                                ...   \n",
      "495   RobertMobley1  RT @WatcherGuru: JUST IN: 🇸🇬 Singapore court h...   \n",
      "496  Pleznaofficial  What is the Crypto Fear and Greed Index?\\n\\nRe...   \n",
      "497        shiki2x4  Nice project\\n \\n#FlagNetwork #IDO #cryptocurr...   \n",
      "498       tEdthe420  RT @Jayecane: sent you $100 #Bitcoin @uniqueun...   \n",
      "499         ZERMIKE  @emirkoz777 $BLK #solaaapowaaa! $spx #bitcoin ...   \n",
      "\n",
      "                         Date  Likes                        Location  \\\n",
      "0   2022-03-04 23:55:29+00:00      0                                   \n",
      "1   2022-03-04 23:55:29+00:00      0            Saskatchewan, Canada   \n",
      "2   2022-03-04 23:55:28+00:00      0                                   \n",
      "3   2022-03-04 23:55:28+00:00      0  Baden-Württemberg, Deutschland   \n",
      "4   2022-03-04 23:55:28+00:00      0                                   \n",
      "..                        ...    ...                             ...   \n",
      "495 2022-03-04 23:47:40+00:00      0                 Spartanburg, sc   \n",
      "496 2022-03-04 23:47:38+00:00      0                The Crypto Block   \n",
      "497 2022-03-04 23:47:38+00:00      0                                   \n",
      "498 2022-03-04 23:47:37+00:00      0                                   \n",
      "499 2022-03-04 23:47:37+00:00      0                                   \n",
      "\n",
      "     Followers  \n",
      "0           97  \n",
      "1          544  \n",
      "2          208  \n",
      "3         4914  \n",
      "4          126  \n",
      "..         ...  \n",
      "495        418  \n",
      "496        253  \n",
      "497        202  \n",
      "498         26  \n",
      "499       2538  \n",
      "\n",
      "[500 rows x 6 columns]\n"
     ]
    }
   ],
   "source": [
    "columns = ['User', 'Tweet', 'Date', 'Likes', 'Location', 'Followers']\n",
    "data = []\n",
    "\n",
    "for tweet in tweets:\n",
    "    data.append([tweet.user.screen_name, tweet.full_text, tweet.created_at, tweet.favorite_count, tweet.user.location, tweet.user.followers_count])\n",
    "\n",
    "df = pd.DataFrame(data, columns=columns)\n",
    "\n",
    "print(df)"
   ]
  }
 ],
 "metadata": {
  "kernelspec": {
   "display_name": "Python 3 (ipykernel)",
   "language": "python",
   "name": "python3"
  },
  "language_info": {
   "codemirror_mode": {
    "name": "ipython",
    "version": 3
   },
   "file_extension": ".py",
   "mimetype": "text/x-python",
   "name": "python",
   "nbconvert_exporter": "python",
   "pygments_lexer": "ipython3",
   "version": "3.7.1"
  }
 },
 "nbformat": 4,
 "nbformat_minor": 5
}
