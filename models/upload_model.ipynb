{
 "cells": [
  {
   "cell_type": "code",
   "execution_count": 8,
   "id": "26eda36c-3138-4100-8bce-aed20ac3fe8e",
   "metadata": {},
   "outputs": [],
   "source": [
    "import pandas as pd \n",
    "import numpy as np \n",
    "import sklearn \n",
    "from sklearn.model_selection import train_test_split\n",
    "from sklearn.metrics import mean_squared_error, mean_absolute_error, mean_absolute_percentage_error, r2_score\n",
    "from sklearn.model_selection import train_test_split\n",
    "from sklearn.ensemble import AdaBoostClassifier, RandomForestClassifier\n",
    "from sklearn import metrics\n",
    "from sklearn.model_selection import cross_validate\n",
    "from sklearn.metrics import precision_score,log_loss\n",
    "import pickle"
   ]
  },
  {
   "cell_type": "code",
   "execution_count": 3,
   "id": "c53756cf-9cfe-41d3-ad5f-b66bacc58da9",
   "metadata": {},
   "outputs": [],
   "source": [
    "data_bitcoin = pd.read_csv('./data/clean_model.csv')"
   ]
  },
  {
   "cell_type": "code",
   "execution_count": 4,
   "id": "6fca6016-6594-4218-b885-1bab3ef59e38",
   "metadata": {},
   "outputs": [],
   "source": [
    "X=data_bitcoin.iloc[:, 9:11]\n",
    "Y=data_bitcoin['up_down']"
   ]
  },
  {
   "cell_type": "code",
   "execution_count": 5,
   "id": "677fc039-9ec0-4714-812a-2cbddaba299d",
   "metadata": {},
   "outputs": [],
   "source": [
    "x_train, x_test, y_train, y_test = train_test_split(X, Y, test_size=0.2, random_state=42)\n",
    "RFC = RandomForestClassifier(n_estimators=1000, min_samples_split=2)"
   ]
  },
  {
   "cell_type": "code",
   "execution_count": 6,
   "id": "1919f075-c8cf-4066-bc31-edd6ae42e3b9",
   "metadata": {},
   "outputs": [
    {
     "data": {
      "text/plain": [
       "RandomForestClassifier(n_estimators=1000)"
      ]
     },
     "execution_count": 6,
     "metadata": {},
     "output_type": "execute_result"
    }
   ],
   "source": [
    "RFC.fit(x_train,y_train)"
   ]
  },
  {
   "cell_type": "code",
   "execution_count": 10,
   "id": "2ca15714-974b-4fa5-9b31-d51997b7ccba",
   "metadata": {},
   "outputs": [],
   "source": [
    "pkl= 'random_forest.pkl'\n",
    "with open(pkl, 'wb') as file:\n",
    "    pickle.dump(RFC, file)"
   ]
  },
  {
   "cell_type": "code",
   "execution_count": 12,
   "id": "049b5fb6-2eb9-4651-96b1-1f645c0ff876",
   "metadata": {},
   "outputs": [
    {
     "name": "stdout",
     "output_type": "stream",
     "text": [
      "Copying file://random_forest.pkl [Content-Type=application/octet-stream]...\n",
      "/ [1 files][ 25.0 MiB/ 25.0 MiB]                                                \n",
      "Operation completed over 1 objects/25.0 MiB.                                     \n"
     ]
    }
   ],
   "source": [
    "!gsutil cp random_forest.pkl gs://tweets_crypto/models/"
   ]
  },
  {
   "cell_type": "code",
   "execution_count": null,
   "id": "6f3c17c3-fa7b-4298-b4f9-1c1b8d673b3b",
   "metadata": {},
   "outputs": [],
   "source": []
  }
 ],
 "metadata": {
  "environment": {
   "kernel": "python3",
   "name": "common-cpu.m90",
   "type": "gcloud",
   "uri": "gcr.io/deeplearning-platform-release/base-cpu:m90"
  },
  "kernelspec": {
   "display_name": "Python 3",
   "language": "python",
   "name": "python3"
  },
  "language_info": {
   "codemirror_mode": {
    "name": "ipython",
    "version": 3
   },
   "file_extension": ".py",
   "mimetype": "text/x-python",
   "name": "python",
   "nbconvert_exporter": "python",
   "pygments_lexer": "ipython3",
   "version": "3.7.12"
  }
 },
 "nbformat": 4,
 "nbformat_minor": 5
}
