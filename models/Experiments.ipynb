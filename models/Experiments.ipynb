{
 "cells": [
  {
   "cell_type": "markdown",
   "id": "addd32f6-1027-4361-a986-6aa34a4a9238",
   "metadata": {},
   "source": [
    "# Exploratory Data Analysis: Twitter Data"
   ]
  },
  {
   "cell_type": "code",
   "execution_count": 8,
   "id": "2c124e68-3fe4-438b-85ec-9d5059da4a5e",
   "metadata": {},
   "outputs": [],
   "source": [
    "import pandas as pd\n",
    "import numpy as np \n",
    "from pandas.io import gbq\n",
    "import matplotlib.pyplot as plt"
   ]
  },
  {
   "cell_type": "markdown",
   "id": "bd6ff8d2-fae7-4606-8ab1-3911e0a3b195",
   "metadata": {},
   "source": [
    "First, we are going to load the data from BigQuery that includes tweets from 2020-01-02 up to 2021-10-31. These tweets are only from verified accounts and are the most popular each day. The dataset has more than 300,000 tweets. "
   ]
  },
  {
   "cell_type": "code",
   "execution_count": 4,
   "id": "428fe609-f772-45c1-a1db-f87d580ec295",
   "metadata": {},
   "outputs": [
    {
     "data": {
      "text/html": [
       "<div>\n",
       "<style scoped>\n",
       "    .dataframe tbody tr th:only-of-type {\n",
       "        vertical-align: middle;\n",
       "    }\n",
       "\n",
       "    .dataframe tbody tr th {\n",
       "        vertical-align: top;\n",
       "    }\n",
       "\n",
       "    .dataframe thead th {\n",
       "        text-align: right;\n",
       "    }\n",
       "</style>\n",
       "<table border=\"1\" class=\"dataframe\">\n",
       "  <thead>\n",
       "    <tr style=\"text-align: right;\">\n",
       "      <th></th>\n",
       "      <th>likes</th>\n",
       "      <th>author_id</th>\n",
       "      <th>author_tweets</th>\n",
       "      <th>retweets</th>\n",
       "      <th>created_at</th>\n",
       "      <th>text</th>\n",
       "      <th>author_location</th>\n",
       "      <th>quote_count</th>\n",
       "      <th>username</th>\n",
       "      <th>replies</th>\n",
       "      <th>author_followers</th>\n",
       "      <th>author_description</th>\n",
       "      <th>id</th>\n",
       "    </tr>\n",
       "  </thead>\n",
       "  <tbody>\n",
       "    <tr>\n",
       "      <th>0</th>\n",
       "      <td>60</td>\n",
       "      <td>2680350607</td>\n",
       "      <td>168954</td>\n",
       "      <td>5</td>\n",
       "      <td>2020-01-02 00:02:59+00:00</td>\n",
       "      <td>What is Bitcoin currently being used for? It’s...</td>\n",
       "      <td>Detroit, MI</td>\n",
       "      <td>2</td>\n",
       "      <td>haydentiff</td>\n",
       "      <td>15</td>\n",
       "      <td>74460</td>\n",
       "      <td>“The beginning of a revolution is, in reality,...</td>\n",
       "      <td>1212524652079267841</td>\n",
       "    </tr>\n",
       "    <tr>\n",
       "      <th>1</th>\n",
       "      <td>22</td>\n",
       "      <td>61417559</td>\n",
       "      <td>23715</td>\n",
       "      <td>6</td>\n",
       "      <td>2020-01-02 00:06:01+00:00</td>\n",
       "      <td>“ShapeShift’s 2019 Highlights” by @ShapeShift_...</td>\n",
       "      <td>Bitcoinland</td>\n",
       "      <td>0</td>\n",
       "      <td>ErikVoorhees</td>\n",
       "      <td>2</td>\n",
       "      <td>588046</td>\n",
       "      <td>Toward peace, markets, and Bitcoin. Founder of...</td>\n",
       "      <td>1212525414804934662</td>\n",
       "    </tr>\n",
       "    <tr>\n",
       "      <th>2</th>\n",
       "      <td>0</td>\n",
       "      <td>762522504</td>\n",
       "      <td>216751</td>\n",
       "      <td>0</td>\n",
       "      <td>2020-01-02 00:05:28+00:00</td>\n",
       "      <td>@icomputer7 @joeltelling @RemadeGamer @3DArtil...</td>\n",
       "      <td>Seattle, WA</td>\n",
       "      <td>0</td>\n",
       "      <td>Barnacules</td>\n",
       "      <td>0</td>\n",
       "      <td>115249</td>\n",
       "      <td>Former Microsoft Senior SDET that worked on Wi...</td>\n",
       "      <td>1212525277047226371</td>\n",
       "    </tr>\n",
       "    <tr>\n",
       "      <th>3</th>\n",
       "      <td>2</td>\n",
       "      <td>714731566828793857</td>\n",
       "      <td>284816</td>\n",
       "      <td>0</td>\n",
       "      <td>2020-01-02 00:48:59+00:00</td>\n",
       "      <td>Kim Jong Un has once again lived up to his unp...</td>\n",
       "      <td>Mumbai, India</td>\n",
       "      <td>0</td>\n",
       "      <td>bloombergquint</td>\n",
       "      <td>0</td>\n",
       "      <td>278570</td>\n",
       "      <td>#India’s premier multi-platform #business and ...</td>\n",
       "      <td>1212536228844732417</td>\n",
       "    </tr>\n",
       "    <tr>\n",
       "      <th>4</th>\n",
       "      <td>1</td>\n",
       "      <td>562967099</td>\n",
       "      <td>134866</td>\n",
       "      <td>2</td>\n",
       "      <td>2020-01-02 00:45:04+00:00</td>\n",
       "      <td>2010s In #Bitcoin: The Year 2019 via @forbes \\...</td>\n",
       "      <td>Las Vegas, NV</td>\n",
       "      <td>0</td>\n",
       "      <td>RAlexJimenez</td>\n",
       "      <td>0</td>\n",
       "      <td>16322</td>\n",
       "      <td>#FinServ Consultant @EPAMSYSTEMS | Strategist,...</td>\n",
       "      <td>1212535243003105291</td>\n",
       "    </tr>\n",
       "    <tr>\n",
       "      <th>5</th>\n",
       "      <td>0</td>\n",
       "      <td>27368568</td>\n",
       "      <td>3959</td>\n",
       "      <td>0</td>\n",
       "      <td>2020-01-02 01:23:40+00:00</td>\n",
       "      <td>@strassa bitcoin billionaires</td>\n",
       "      <td>Miami, FL</td>\n",
       "      <td>0</td>\n",
       "      <td>badams78</td>\n",
       "      <td>0</td>\n",
       "      <td>24549</td>\n",
       "      <td>Apple podcast: https://t.co/ZkbjFh051O\\ninsta:...</td>\n",
       "      <td>1212544957245845505</td>\n",
       "    </tr>\n",
       "    <tr>\n",
       "      <th>6</th>\n",
       "      <td>1</td>\n",
       "      <td>2680350607</td>\n",
       "      <td>168954</td>\n",
       "      <td>0</td>\n",
       "      <td>2020-01-02 01:27:23+00:00</td>\n",
       "      <td>@diamond_crypto Right. So back to my OP, is Bi...</td>\n",
       "      <td>Detroit, MI</td>\n",
       "      <td>0</td>\n",
       "      <td>haydentiff</td>\n",
       "      <td>0</td>\n",
       "      <td>74460</td>\n",
       "      <td>“The beginning of a revolution is, in reality,...</td>\n",
       "      <td>1212545892961705985</td>\n",
       "    </tr>\n",
       "    <tr>\n",
       "      <th>7</th>\n",
       "      <td>19</td>\n",
       "      <td>2680350607</td>\n",
       "      <td>168954</td>\n",
       "      <td>2</td>\n",
       "      <td>2020-01-02 01:47:14+00:00</td>\n",
       "      <td>Anonymous message sent to me:\\n“Fun fact, avg ...</td>\n",
       "      <td>Detroit, MI</td>\n",
       "      <td>1</td>\n",
       "      <td>haydentiff</td>\n",
       "      <td>2</td>\n",
       "      <td>74460</td>\n",
       "      <td>“The beginning of a revolution is, in reality,...</td>\n",
       "      <td>1212550887324995584</td>\n",
       "    </tr>\n",
       "    <tr>\n",
       "      <th>8</th>\n",
       "      <td>9</td>\n",
       "      <td>2680350607</td>\n",
       "      <td>168954</td>\n",
       "      <td>3</td>\n",
       "      <td>2020-01-02 02:14:51+00:00</td>\n",
       "      <td>@james_lackland People conditioned to associat...</td>\n",
       "      <td>Detroit, MI</td>\n",
       "      <td>0</td>\n",
       "      <td>haydentiff</td>\n",
       "      <td>1</td>\n",
       "      <td>74460</td>\n",
       "      <td>“The beginning of a revolution is, in reality,...</td>\n",
       "      <td>1212557837999718400</td>\n",
       "    </tr>\n",
       "    <tr>\n",
       "      <th>9</th>\n",
       "      <td>2277</td>\n",
       "      <td>2438831503</td>\n",
       "      <td>22224</td>\n",
       "      <td>1701</td>\n",
       "      <td>2020-01-02 15:02:43+00:00</td>\n",
       "      <td>Paul Pelosi Jr.'s Russia Ties, charges of taki...</td>\n",
       "      <td>Washington, DC ��������</td>\n",
       "      <td>251</td>\n",
       "      <td>ChanelRion</td>\n",
       "      <td>156</td>\n",
       "      <td>433486</td>\n",
       "      <td>@OANN Chief White House Correspondent | https:...</td>\n",
       "      <td>1212751077474492416</td>\n",
       "    </tr>\n",
       "  </tbody>\n",
       "</table>\n",
       "</div>"
      ],
      "text/plain": [
       "   likes           author_id  author_tweets  retweets  \\\n",
       "0     60          2680350607         168954         5   \n",
       "1     22            61417559          23715         6   \n",
       "2      0           762522504         216751         0   \n",
       "3      2  714731566828793857         284816         0   \n",
       "4      1           562967099         134866         2   \n",
       "5      0            27368568           3959         0   \n",
       "6      1          2680350607         168954         0   \n",
       "7     19          2680350607         168954         2   \n",
       "8      9          2680350607         168954         3   \n",
       "9   2277          2438831503          22224      1701   \n",
       "\n",
       "                 created_at  \\\n",
       "0 2020-01-02 00:02:59+00:00   \n",
       "1 2020-01-02 00:06:01+00:00   \n",
       "2 2020-01-02 00:05:28+00:00   \n",
       "3 2020-01-02 00:48:59+00:00   \n",
       "4 2020-01-02 00:45:04+00:00   \n",
       "5 2020-01-02 01:23:40+00:00   \n",
       "6 2020-01-02 01:27:23+00:00   \n",
       "7 2020-01-02 01:47:14+00:00   \n",
       "8 2020-01-02 02:14:51+00:00   \n",
       "9 2020-01-02 15:02:43+00:00   \n",
       "\n",
       "                                                text          author_location  \\\n",
       "0  What is Bitcoin currently being used for? It’s...              Detroit, MI   \n",
       "1  “ShapeShift’s 2019 Highlights” by @ShapeShift_...              Bitcoinland   \n",
       "2  @icomputer7 @joeltelling @RemadeGamer @3DArtil...              Seattle, WA   \n",
       "3  Kim Jong Un has once again lived up to his unp...            Mumbai, India   \n",
       "4  2010s In #Bitcoin: The Year 2019 via @forbes \\...            Las Vegas, NV   \n",
       "5                      @strassa bitcoin billionaires                Miami, FL   \n",
       "6  @diamond_crypto Right. So back to my OP, is Bi...              Detroit, MI   \n",
       "7  Anonymous message sent to me:\\n“Fun fact, avg ...              Detroit, MI   \n",
       "8  @james_lackland People conditioned to associat...              Detroit, MI   \n",
       "9  Paul Pelosi Jr.'s Russia Ties, charges of taki...  Washington, DC ��������   \n",
       "\n",
       "   quote_count        username  replies  author_followers  \\\n",
       "0            2      haydentiff       15             74460   \n",
       "1            0    ErikVoorhees        2            588046   \n",
       "2            0      Barnacules        0            115249   \n",
       "3            0  bloombergquint        0            278570   \n",
       "4            0    RAlexJimenez        0             16322   \n",
       "5            0        badams78        0             24549   \n",
       "6            0      haydentiff        0             74460   \n",
       "7            1      haydentiff        2             74460   \n",
       "8            0      haydentiff        1             74460   \n",
       "9          251      ChanelRion      156            433486   \n",
       "\n",
       "                                  author_description                   id  \n",
       "0  “The beginning of a revolution is, in reality,...  1212524652079267841  \n",
       "1  Toward peace, markets, and Bitcoin. Founder of...  1212525414804934662  \n",
       "2  Former Microsoft Senior SDET that worked on Wi...  1212525277047226371  \n",
       "3  #India’s premier multi-platform #business and ...  1212536228844732417  \n",
       "4  #FinServ Consultant @EPAMSYSTEMS | Strategist,...  1212535243003105291  \n",
       "5  Apple podcast: https://t.co/ZkbjFh051O\\ninsta:...  1212544957245845505  \n",
       "6  “The beginning of a revolution is, in reality,...  1212545892961705985  \n",
       "7  “The beginning of a revolution is, in reality,...  1212550887324995584  \n",
       "8  “The beginning of a revolution is, in reality,...  1212557837999718400  \n",
       "9  @OANN Chief White House Correspondent | https:...  1212751077474492416  "
      ]
     },
     "execution_count": 4,
     "metadata": {},
     "output_type": "execute_result"
    }
   ],
   "source": [
    "tweets = \"\"\"SELECT * FROM `dpa-2022-itam.prueba_twits.historical_tweets`\"\"\"\n",
    "tweets_data = gbq.read_gbq(tweets, project_id = \"dpa-2022-itam\")\n",
    "tweets_data.head(10)"
   ]
  },
  {
   "cell_type": "code",
   "execution_count": 5,
   "id": "307439cb-8963-4507-8f65-c98c1341cccc",
   "metadata": {},
   "outputs": [
    {
     "data": {
      "text/html": [
       "<div>\n",
       "<style scoped>\n",
       "    .dataframe tbody tr th:only-of-type {\n",
       "        vertical-align: middle;\n",
       "    }\n",
       "\n",
       "    .dataframe tbody tr th {\n",
       "        vertical-align: top;\n",
       "    }\n",
       "\n",
       "    .dataframe thead th {\n",
       "        text-align: right;\n",
       "    }\n",
       "</style>\n",
       "<table border=\"1\" class=\"dataframe\">\n",
       "  <thead>\n",
       "    <tr style=\"text-align: right;\">\n",
       "      <th></th>\n",
       "      <th>likes</th>\n",
       "      <th>author_id</th>\n",
       "      <th>author_tweets</th>\n",
       "      <th>retweets</th>\n",
       "      <th>quote_count</th>\n",
       "      <th>replies</th>\n",
       "      <th>author_followers</th>\n",
       "      <th>id</th>\n",
       "    </tr>\n",
       "  </thead>\n",
       "  <tbody>\n",
       "    <tr>\n",
       "      <th>count</th>\n",
       "      <td>308250.000000</td>\n",
       "      <td>3.082500e+05</td>\n",
       "      <td>3.082500e+05</td>\n",
       "      <td>308250.000000</td>\n",
       "      <td>308250.000000</td>\n",
       "      <td>308250.000000</td>\n",
       "      <td>3.082500e+05</td>\n",
       "      <td>3.082500e+05</td>\n",
       "    </tr>\n",
       "    <tr>\n",
       "      <th>mean</th>\n",
       "      <td>214.788753</td>\n",
       "      <td>-2.143768e+12</td>\n",
       "      <td>1.038665e+05</td>\n",
       "      <td>35.526462</td>\n",
       "      <td>6.499624</td>\n",
       "      <td>23.187530</td>\n",
       "      <td>8.997225e+05</td>\n",
       "      <td>1.631944e+13</td>\n",
       "    </tr>\n",
       "    <tr>\n",
       "      <th>std</th>\n",
       "      <td>2644.146955</td>\n",
       "      <td>3.158744e+17</td>\n",
       "      <td>1.892631e+05</td>\n",
       "      <td>1455.349244</td>\n",
       "      <td>406.966842</td>\n",
       "      <td>620.315783</td>\n",
       "      <td>2.902419e+06</td>\n",
       "      <td>5.915406e+16</td>\n",
       "    </tr>\n",
       "    <tr>\n",
       "      <th>min</th>\n",
       "      <td>0.000000</td>\n",
       "      <td>1.200000e+01</td>\n",
       "      <td>0.000000e+00</td>\n",
       "      <td>0.000000</td>\n",
       "      <td>0.000000</td>\n",
       "      <td>0.000000</td>\n",
       "      <td>1.700000e+01</td>\n",
       "      <td>1.212525e+18</td>\n",
       "    </tr>\n",
       "    <tr>\n",
       "      <th>25%</th>\n",
       "      <td>1.000000</td>\n",
       "      <td>2.040294e+07</td>\n",
       "      <td>1.483900e+04</td>\n",
       "      <td>0.000000</td>\n",
       "      <td>0.000000</td>\n",
       "      <td>0.000000</td>\n",
       "      <td>3.253100e+04</td>\n",
       "      <td>1.339505e+18</td>\n",
       "    </tr>\n",
       "    <tr>\n",
       "      <th>50%</th>\n",
       "      <td>9.000000</td>\n",
       "      <td>1.518056e+08</td>\n",
       "      <td>4.035100e+04</td>\n",
       "      <td>2.000000</td>\n",
       "      <td>0.000000</td>\n",
       "      <td>1.000000</td>\n",
       "      <td>1.109010e+05</td>\n",
       "      <td>1.374832e+18</td>\n",
       "    </tr>\n",
       "    <tr>\n",
       "      <th>75%</th>\n",
       "      <td>56.000000</td>\n",
       "      <td>1.598709e+09</td>\n",
       "      <td>1.030370e+05</td>\n",
       "      <td>10.000000</td>\n",
       "      <td>1.000000</td>\n",
       "      <td>6.000000</td>\n",
       "      <td>6.108000e+05</td>\n",
       "      <td>1.410265e+18</td>\n",
       "    </tr>\n",
       "    <tr>\n",
       "      <th>max</th>\n",
       "      <td>864408.000000</td>\n",
       "      <td>1.438731e+18</td>\n",
       "      <td>8.155349e+06</td>\n",
       "      <td>777852.000000</td>\n",
       "      <td>181047.000000</td>\n",
       "      <td>175028.000000</td>\n",
       "      <td>7.763731e+07</td>\n",
       "      <td>1.454961e+18</td>\n",
       "    </tr>\n",
       "  </tbody>\n",
       "</table>\n",
       "</div>"
      ],
      "text/plain": [
       "               likes     author_id  author_tweets       retweets  \\\n",
       "count  308250.000000  3.082500e+05   3.082500e+05  308250.000000   \n",
       "mean      214.788753 -2.143768e+12   1.038665e+05      35.526462   \n",
       "std      2644.146955  3.158744e+17   1.892631e+05    1455.349244   \n",
       "min         0.000000  1.200000e+01   0.000000e+00       0.000000   \n",
       "25%         1.000000  2.040294e+07   1.483900e+04       0.000000   \n",
       "50%         9.000000  1.518056e+08   4.035100e+04       2.000000   \n",
       "75%        56.000000  1.598709e+09   1.030370e+05      10.000000   \n",
       "max    864408.000000  1.438731e+18   8.155349e+06  777852.000000   \n",
       "\n",
       "         quote_count        replies  author_followers            id  \n",
       "count  308250.000000  308250.000000      3.082500e+05  3.082500e+05  \n",
       "mean        6.499624      23.187530      8.997225e+05  1.631944e+13  \n",
       "std       406.966842     620.315783      2.902419e+06  5.915406e+16  \n",
       "min         0.000000       0.000000      1.700000e+01  1.212525e+18  \n",
       "25%         0.000000       0.000000      3.253100e+04  1.339505e+18  \n",
       "50%         0.000000       1.000000      1.109010e+05  1.374832e+18  \n",
       "75%         1.000000       6.000000      6.108000e+05  1.410265e+18  \n",
       "max    181047.000000  175028.000000      7.763731e+07  1.454961e+18  "
      ]
     },
     "execution_count": 5,
     "metadata": {},
     "output_type": "execute_result"
    }
   ],
   "source": [
    "tweets_data.describe()"
   ]
  },
  {
   "cell_type": "code",
   "execution_count": 7,
   "id": "e9f58ce7-2823-41e4-9dbf-46b91a662198",
   "metadata": {},
   "outputs": [
    {
     "data": {
      "text/plain": [
       "21766"
      ]
     },
     "execution_count": 7,
     "metadata": {},
     "output_type": "execute_result"
    }
   ],
   "source": [
    "tweets_data['username'].nunique()"
   ]
  },
  {
   "cell_type": "markdown",
   "id": "cd91240a-f527-4c71-a5b9-703c78cb8373",
   "metadata": {},
   "source": [
    "In this dataset, we have more than 21,000 unique users. There is also a tweet that reached almost a million retweets, while the mean is 35 retweets and the median is only 2. The difference between the mean and the median of retweets is significant as there is a standard deviation of 1455 tweets. As it is shown the 75 percentile is 10 retweets so we can expect to have some outliers. The same happens to likes, quote count, and replies, it appears that some tweets have more impact on Twitter than others. "
   ]
  },
  {
   "cell_type": "markdown",
   "id": "2014fa57-3560-44fb-be05-2f41d462cb21",
   "metadata": {},
   "source": [
    "This can be explained as the mean number of followers of the users is 32,531, while the max gets over 70 million. "
   ]
  },
  {
   "cell_type": "code",
   "execution_count": 38,
   "id": "0a32f989-6781-467a-9b61-6f38b4de0b10",
   "metadata": {},
   "outputs": [
    {
     "data": {
      "image/png": "[encoded data removed]",
      "text/plain": [
       "<Figure size 432x288 with 1 Axes>"
      ]
     },
     "metadata": {},
     "output_type": "display_data"
    }
   ],
   "source": [
    "hist_retweets = tweets_data.query('retweets < retweets.quantile(.9)').hist(column=['retweets'])"
   ]
  },
  {
   "cell_type": "code",
   "execution_count": 37,
   "id": "96bcdd55-e680-4bd6-b8df-a27de0c40042",
   "metadata": {},
   "outputs": [
    {
     "data": {
      "image/png": "[encoded data removed]",
      "text/plain": [
       "<Figure size 432x288 with 1 Axes>"
      ]
     },
     "metadata": {},
     "output_type": "display_data"
    }
   ],
   "source": [
    "hist_likes = tweets_data.query('likes < likes.quantile(.9)').hist(column=['likes'])"
   ]
  },
  {
   "cell_type": "code",
   "execution_count": 36,
   "id": "00051994-f042-4f2c-a5a4-3f57e003ce1d",
   "metadata": {},
   "outputs": [
    {
     "data": {
      "image/png": "[encoded data removed]",
      "text/plain": [
       "<Figure size 432x288 with 1 Axes>"
      ]
     },
     "metadata": {},
     "output_type": "display_data"
    }
   ],
   "source": [
    "hist_author = tweets_data.query('author_followers < author_followers.quantile(.7)').hist(column=['author_followers'])"
   ]
  },
  {
   "cell_type": "markdown",
   "id": "2bbc4887-667e-4a79-8abf-cbdcacd10f84",
   "metadata": {},
   "source": [
    "The objective of our project is to determine whether the bitcoin price goes up or down based on the tweets of the day before. Therefore it might be useful for us to keep only those tweets with the highest numbers (retweets, likes, quote count), as these tweets might have more impact on the bitcoin. "
   ]
  },
  {
   "cell_type": "markdown",
   "id": "03e3000c-2558-40c6-99ac-a64f36f42f6c",
   "metadata": {},
   "source": [
    "First, we get all the unique dates that are on the dataset. "
   ]
  },
  {
   "cell_type": "code",
   "execution_count": 39,
   "id": "670315cf-b8fa-459d-8e31-ab6e433e3ed8",
   "metadata": {},
   "outputs": [],
   "source": [
    "a=[]\n",
    "for i in range (len(tweets_data)):\n",
    "    date=str(tweets_data.iloc[i][4])\n",
    "    a.append(date[0:10])\n",
    "\n",
    "x= np.unique(a)"
   ]
  },
  {
   "cell_type": "code",
   "execution_count": 40,
   "id": "7051cfc4-3b87-492f-a4bd-694ef9de3c62",
   "metadata": {},
   "outputs": [
    {
     "data": {
      "text/plain": [
       "667"
      ]
     },
     "execution_count": 40,
     "metadata": {},
     "output_type": "execute_result"
    }
   ],
   "source": [
    "len(x)"
   ]
  },
  {
   "cell_type": "code",
   "execution_count": 46,
   "id": "e571c8b8-a468-41f3-94a1-b52fd68eb2fd",
   "metadata": {},
   "outputs": [
    {
     "data": {
      "text/plain": [
       "'2020-01-02'"
      ]
     },
     "execution_count": 46,
     "metadata": {},
     "output_type": "execute_result"
    }
   ],
   "source": [
    "x[0]"
   ]
  },
  {
   "cell_type": "code",
   "execution_count": 45,
   "id": "375c9eaa-2680-4356-ae52-7dee6f5427ce",
   "metadata": {},
   "outputs": [
    {
     "data": {
      "text/plain": [
       "'2021-10-31'"
      ]
     },
     "execution_count": 45,
     "metadata": {},
     "output_type": "execute_result"
    }
   ],
   "source": [
    "x[666]"
   ]
  },
  {
   "cell_type": "markdown",
   "id": "7ceed604-b929-4589-b52a-4623032eff82",
   "metadata": {},
   "source": [
    "There are 667 unique dates from 2020-01-02 until 2021-10-31. "
   ]
  },
  {
   "cell_type": "markdown",
   "id": "589e6f23-3bd6-49e2-b100-30fba69160c7",
   "metadata": {},
   "source": [
    "There are almost 500 tweets per day, but as we said before we only want to keep the most popular. So we decided to keep the 10 most popular tweets per day. We are aware that only 10 tweets are not that much information, but the resources that we have access to are limited."
   ]
  },
  {
   "cell_type": "code",
   "execution_count": 93,
   "id": "a8df1b60-9d30-4a07-927b-933fe7a9e6a1",
   "metadata": {},
   "outputs": [],
   "source": [
    "tweets_relevant = tweets_data.sort_values(by='retweets',ascending=False)"
   ]
  },
  {
   "cell_type": "code",
   "execution_count": 96,
   "id": "f1eb4396-d693-4949-91a5-676ce629eaf1",
   "metadata": {
    "tags": []
   },
   "outputs": [
    {
     "data": {
      "text/html": [
       "<div>\n",
       "<style scoped>\n",
       "    .dataframe tbody tr th:only-of-type {\n",
       "        vertical-align: middle;\n",
       "    }\n",
       "\n",
       "    .dataframe tbody tr th {\n",
       "        vertical-align: top;\n",
       "    }\n",
       "\n",
       "    .dataframe thead th {\n",
       "        text-align: right;\n",
       "    }\n",
       "</style>\n",
       "<table border=\"1\" class=\"dataframe\">\n",
       "  <thead>\n",
       "    <tr style=\"text-align: right;\">\n",
       "      <th></th>\n",
       "      <th>likes</th>\n",
       "      <th>author_id</th>\n",
       "      <th>author_tweets</th>\n",
       "      <th>retweets</th>\n",
       "      <th>created_at</th>\n",
       "      <th>text</th>\n",
       "      <th>author_location</th>\n",
       "      <th>quote_count</th>\n",
       "      <th>username</th>\n",
       "      <th>replies</th>\n",
       "      <th>author_followers</th>\n",
       "      <th>author_description</th>\n",
       "      <th>id</th>\n",
       "    </tr>\n",
       "  </thead>\n",
       "  <tbody>\n",
       "    <tr>\n",
       "      <th>54505</th>\n",
       "      <td>538073</td>\n",
       "      <td>2455740283</td>\n",
       "      <td>5392</td>\n",
       "      <td>777852</td>\n",
       "      <td>2021-02-20 05:27:14+00:00</td>\n",
       "      <td>In 24 hours I’m going to give one random perso...</td>\n",
       "      <td>Follow me for a cookie</td>\n",
       "      <td>23926</td>\n",
       "      <td>MrBeast</td>\n",
       "      <td>51765</td>\n",
       "      <td>13507907</td>\n",
       "      <td>I want to make the world a better place before...</td>\n",
       "      <td>1362997215308906498</td>\n",
       "    </tr>\n",
       "    <tr>\n",
       "      <th>159290</th>\n",
       "      <td>864408</td>\n",
       "      <td>44196397</td>\n",
       "      <td>17112</td>\n",
       "      <td>107735</td>\n",
       "      <td>2021-03-24 07:02:40+00:00</td>\n",
       "      <td>You can now buy a Tesla with Bitcoin</td>\n",
       "      <td>None</td>\n",
       "      <td>23682</td>\n",
       "      <td>elonmusk</td>\n",
       "      <td>34727</td>\n",
       "      <td>77614776</td>\n",
       "      <td></td>\n",
       "      <td>1374617643446063105</td>\n",
       "    </tr>\n",
       "    <tr>\n",
       "      <th>24451</th>\n",
       "      <td>78973</td>\n",
       "      <td>12</td>\n",
       "      <td>28278</td>\n",
       "      <td>75346</td>\n",
       "      <td>2020-10-14 21:05:25+00:00</td>\n",
       "      <td>Donate via #Bitcoin to help #EndSARS ���� http...</td>\n",
       "      <td>��</td>\n",
       "      <td>4937</td>\n",
       "      <td>jack</td>\n",
       "      <td>4472</td>\n",
       "      <td>6205528</td>\n",
       "      <td>#bitcoin</td>\n",
       "      <td>1316485283777519620</td>\n",
       "    </tr>\n",
       "    <tr>\n",
       "      <th>163514</th>\n",
       "      <td>491410</td>\n",
       "      <td>44196397</td>\n",
       "      <td>17112</td>\n",
       "      <td>73693</td>\n",
       "      <td>2021-05-12 22:06:14+00:00</td>\n",
       "      <td>Tesla &amp;amp; Bitcoin https://t.co/YSswJmVZhP</td>\n",
       "      <td>None</td>\n",
       "      <td>50264</td>\n",
       "      <td>elonmusk</td>\n",
       "      <td>120365</td>\n",
       "      <td>77615261</td>\n",
       "      <td></td>\n",
       "      <td>1392602041025843203</td>\n",
       "    </tr>\n",
       "    <tr>\n",
       "      <th>136409</th>\n",
       "      <td>78127</td>\n",
       "      <td>1445650784</td>\n",
       "      <td>3524</td>\n",
       "      <td>62497</td>\n",
       "      <td>2020-03-20 15:00:34+00:00</td>\n",
       "      <td>We’re giving away $100,000 this #CashAppFriday...</td>\n",
       "      <td>None</td>\n",
       "      <td>181047</td>\n",
       "      <td>CashApp</td>\n",
       "      <td>134811</td>\n",
       "      <td>1724497</td>\n",
       "      <td>Everything you can do with cash, you can do be...</td>\n",
       "      <td>1241016789758246914</td>\n",
       "    </tr>\n",
       "    <tr>\n",
       "      <th>165522</th>\n",
       "      <td>320005</td>\n",
       "      <td>44196397</td>\n",
       "      <td>17112</td>\n",
       "      <td>36664</td>\n",
       "      <td>2021-05-24 19:42:36+00:00</td>\n",
       "      <td>Spoke with North American Bitcoin miners. They...</td>\n",
       "      <td>None</td>\n",
       "      <td>11223</td>\n",
       "      <td>elonmusk</td>\n",
       "      <td>26015</td>\n",
       "      <td>77614977</td>\n",
       "      <td></td>\n",
       "      <td>1396914548167233537</td>\n",
       "    </tr>\n",
       "    <tr>\n",
       "      <th>160082</th>\n",
       "      <td>36151</td>\n",
       "      <td>1445650784</td>\n",
       "      <td>3524</td>\n",
       "      <td>33839</td>\n",
       "      <td>2021-03-17 16:01:20+00:00</td>\n",
       "      <td>You can now instantly send bitcoin to other $c...</td>\n",
       "      <td>None</td>\n",
       "      <td>76322</td>\n",
       "      <td>CashApp</td>\n",
       "      <td>40382</td>\n",
       "      <td>1724469</td>\n",
       "      <td>Everything you can do with cash, you can do be...</td>\n",
       "      <td>1372216492352241667</td>\n",
       "    </tr>\n",
       "    <tr>\n",
       "      <th>70507</th>\n",
       "      <td>96098</td>\n",
       "      <td>18918415</td>\n",
       "      <td>46015</td>\n",
       "      <td>31224</td>\n",
       "      <td>2021-04-15 00:05:11+00:00</td>\n",
       "      <td>Difficult to quantify what an ecological disas...</td>\n",
       "      <td>Seattle, WA</td>\n",
       "      <td>2661</td>\n",
       "      <td>koush</td>\n",
       "      <td>718</td>\n",
       "      <td>53485</td>\n",
       "      <td>indie app person</td>\n",
       "      <td>1382485115817758720</td>\n",
       "    </tr>\n",
       "    <tr>\n",
       "      <th>114605</th>\n",
       "      <td>122850</td>\n",
       "      <td>2455740283</td>\n",
       "      <td>5393</td>\n",
       "      <td>24674</td>\n",
       "      <td>2021-09-02 20:34:13+00:00</td>\n",
       "      <td>I’m teaming up with @coinbase to give 1 person...</td>\n",
       "      <td>Follow me for a cookie</td>\n",
       "      <td>8912</td>\n",
       "      <td>MrBeast</td>\n",
       "      <td>172796</td>\n",
       "      <td>13513588</td>\n",
       "      <td>I want to make the world a better place before...</td>\n",
       "      <td>1433528712952229890</td>\n",
       "    </tr>\n",
       "    <tr>\n",
       "      <th>146022</th>\n",
       "      <td>19313</td>\n",
       "      <td>1445650784</td>\n",
       "      <td>3524</td>\n",
       "      <td>22062</td>\n",
       "      <td>2020-12-29 18:27:23+00:00</td>\n",
       "      <td>We’re giving out a big pile of bitcoin through...</td>\n",
       "      <td>None</td>\n",
       "      <td>16131</td>\n",
       "      <td>CashApp</td>\n",
       "      <td>35726</td>\n",
       "      <td>1724453</td>\n",
       "      <td>Everything you can do with cash, you can do be...</td>\n",
       "      <td>1343986992472846337</td>\n",
       "    </tr>\n",
       "  </tbody>\n",
       "</table>\n",
       "</div>"
      ],
      "text/plain": [
       "         likes   author_id  author_tweets  retweets                created_at  \\\n",
       "54505   538073  2455740283           5392    777852 2021-02-20 05:27:14+00:00   \n",
       "159290  864408    44196397          17112    107735 2021-03-24 07:02:40+00:00   \n",
       "24451    78973          12          28278     75346 2020-10-14 21:05:25+00:00   \n",
       "163514  491410    44196397          17112     73693 2021-05-12 22:06:14+00:00   \n",
       "136409   78127  1445650784           3524     62497 2020-03-20 15:00:34+00:00   \n",
       "165522  320005    44196397          17112     36664 2021-05-24 19:42:36+00:00   \n",
       "160082   36151  1445650784           3524     33839 2021-03-17 16:01:20+00:00   \n",
       "70507    96098    18918415          46015     31224 2021-04-15 00:05:11+00:00   \n",
       "114605  122850  2455740283           5393     24674 2021-09-02 20:34:13+00:00   \n",
       "146022   19313  1445650784           3524     22062 2020-12-29 18:27:23+00:00   \n",
       "\n",
       "                                                     text  \\\n",
       "54505   In 24 hours I’m going to give one random perso...   \n",
       "159290               You can now buy a Tesla with Bitcoin   \n",
       "24451   Donate via #Bitcoin to help #EndSARS ���� http...   \n",
       "163514        Tesla &amp; Bitcoin https://t.co/YSswJmVZhP   \n",
       "136409  We’re giving away $100,000 this #CashAppFriday...   \n",
       "165522  Spoke with North American Bitcoin miners. They...   \n",
       "160082  You can now instantly send bitcoin to other $c...   \n",
       "70507   Difficult to quantify what an ecological disas...   \n",
       "114605  I’m teaming up with @coinbase to give 1 person...   \n",
       "146022  We’re giving out a big pile of bitcoin through...   \n",
       "\n",
       "               author_location  quote_count  username  replies  \\\n",
       "54505   Follow me for a cookie        23926   MrBeast    51765   \n",
       "159290                    None        23682  elonmusk    34727   \n",
       "24451                       ��         4937      jack     4472   \n",
       "163514                    None        50264  elonmusk   120365   \n",
       "136409                    None       181047   CashApp   134811   \n",
       "165522                    None        11223  elonmusk    26015   \n",
       "160082                    None        76322   CashApp    40382   \n",
       "70507              Seattle, WA         2661     koush      718   \n",
       "114605  Follow me for a cookie         8912   MrBeast   172796   \n",
       "146022                    None        16131   CashApp    35726   \n",
       "\n",
       "        author_followers                                 author_description  \\\n",
       "54505           13507907  I want to make the world a better place before...   \n",
       "159290          77614776                                                      \n",
       "24451            6205528                                           #bitcoin   \n",
       "163514          77615261                                                      \n",
       "136409           1724497  Everything you can do with cash, you can do be...   \n",
       "165522          77614977                                                      \n",
       "160082           1724469  Everything you can do with cash, you can do be...   \n",
       "70507              53485                                   indie app person   \n",
       "114605          13513588  I want to make the world a better place before...   \n",
       "146022           1724453  Everything you can do with cash, you can do be...   \n",
       "\n",
       "                         id  \n",
       "54505   1362997215308906498  \n",
       "159290  1374617643446063105  \n",
       "24451   1316485283777519620  \n",
       "163514  1392602041025843203  \n",
       "136409  1241016789758246914  \n",
       "165522  1396914548167233537  \n",
       "160082  1372216492352241667  \n",
       "70507   1382485115817758720  \n",
       "114605  1433528712952229890  \n",
       "146022  1343986992472846337  "
      ]
     },
     "execution_count": 96,
     "metadata": {},
     "output_type": "execute_result"
    }
   ],
   "source": [
    "tweets_relevant.head(10)"
   ]
  },
  {
   "cell_type": "markdown",
   "id": "70ea252e-bc48-4cb0-bbec-06f5bee5dbee",
   "metadata": {},
   "source": [
    "Here we can see that 3 out of 10 of the most popular tweets are from Elon Musk, MrBeast (a popular Youtuber), and CashApp. The most popular tweet from Elon Musk was '*You can now buy a Tesla with Bitcoin*' on March 24th, 2021, with more than 100,000 retweets. "
   ]
  },
  {
   "cell_type": "code",
   "execution_count": 97,
   "id": "9d7c2ae4-3bc7-4c61-9042-9d92bb46dec5",
   "metadata": {},
   "outputs": [],
   "source": [
    "x= pd.Series(x)"
   ]
  },
  {
   "cell_type": "code",
   "execution_count": 98,
   "id": "72c29349-fee1-4ee2-8b18-10677490aa64",
   "metadata": {},
   "outputs": [
    {
     "name": "stdout",
     "output_type": "stream",
     "text": [
      "CPU times: user 3 µs, sys: 0 ns, total: 3 µs\n",
      "Wall time: 7.15 µs\n",
      "0\n",
      "30000\n",
      "60000\n",
      "90000\n",
      "120000\n",
      "150000\n",
      "180000\n",
      "210000\n",
      "240000\n",
      "270000\n",
      "300000\n"
     ]
    }
   ],
   "source": [
    "%time\n",
    "aux=np.zeros(len(x))\n",
    "tweets_final_2=[]\n",
    "n=10\n",
    "for i in range (len(tweets_relevant)):\n",
    "                date=str(tweets_relevant.iloc[i][4])\n",
    "                a=date[0:10]\n",
    "                if(i%30000==0):\n",
    "                    print(i)\n",
    "                if (sum(x==a)==1 and aux[x[x==a].index[0]]<n and sum(aux)<len(x)*n):\n",
    "                    #print(tweets_relevant.iloc[i])\n",
    "                    tweets_final_2.append(tweets_relevant.iloc[i])\n",
    "                    aux[x[x==a].index[0]]+=1"
   ]
  },
  {
   "cell_type": "code",
   "execution_count": 102,
   "id": "f31a59dc-e05c-4f6b-8de7-32b1db6e58f5",
   "metadata": {},
   "outputs": [
    {
     "data": {
      "text/plain": [
       "6670"
      ]
     },
     "execution_count": 102,
     "metadata": {},
     "output_type": "execute_result"
    }
   ],
   "source": [
    "len(tweets_final_2)"
   ]
  },
  {
   "cell_type": "code",
   "execution_count": 103,
   "id": "c29950ef-6d61-46ce-8575-e217777d28ba",
   "metadata": {},
   "outputs": [],
   "source": [
    "tweets_final_2=pd.DataFrame(tweets_final_2)"
   ]
  },
  {
   "cell_type": "code",
   "execution_count": 104,
   "id": "243ee8a1-730a-47d0-84cb-32ef4a83517c",
   "metadata": {},
   "outputs": [],
   "source": [
    "tweets_final_2=tweets_final_2.sort_values(by='created_at',ascending=True)"
   ]
  },
  {
   "cell_type": "code",
   "execution_count": 105,
   "id": "f38feaad-2d60-4e76-a8d4-02a4adf3b137",
   "metadata": {},
   "outputs": [
    {
     "data": {
      "text/html": [
       "<div>\n",
       "<style scoped>\n",
       "    .dataframe tbody tr th:only-of-type {\n",
       "        vertical-align: middle;\n",
       "    }\n",
       "\n",
       "    .dataframe tbody tr th {\n",
       "        vertical-align: top;\n",
       "    }\n",
       "\n",
       "    .dataframe thead th {\n",
       "        text-align: right;\n",
       "    }\n",
       "</style>\n",
       "<table border=\"1\" class=\"dataframe\">\n",
       "  <thead>\n",
       "    <tr style=\"text-align: right;\">\n",
       "      <th></th>\n",
       "      <th>likes</th>\n",
       "      <th>author_id</th>\n",
       "      <th>author_tweets</th>\n",
       "      <th>retweets</th>\n",
       "      <th>created_at</th>\n",
       "      <th>text</th>\n",
       "      <th>author_location</th>\n",
       "      <th>quote_count</th>\n",
       "      <th>username</th>\n",
       "      <th>replies</th>\n",
       "      <th>author_followers</th>\n",
       "      <th>author_description</th>\n",
       "      <th>id</th>\n",
       "    </tr>\n",
       "  </thead>\n",
       "  <tbody>\n",
       "    <tr>\n",
       "      <th>185910</th>\n",
       "      <td>358</td>\n",
       "      <td>339061487</td>\n",
       "      <td>63222</td>\n",
       "      <td>61</td>\n",
       "      <td>2020-01-02 01:24:26+00:00</td>\n",
       "      <td>The team at @TheRealBlockFi is coming out firi...</td>\n",
       "      <td>Global</td>\n",
       "      <td>15</td>\n",
       "      <td>APompliano</td>\n",
       "      <td>37</td>\n",
       "      <td>1535285</td>\n",
       "      <td>I invest in early stage companies, own #bitcoi...</td>\n",
       "      <td>1212545148644679680</td>\n",
       "    </tr>\n",
       "    <tr>\n",
       "      <th>185914</th>\n",
       "      <td>471</td>\n",
       "      <td>339061487</td>\n",
       "      <td>63222</td>\n",
       "      <td>76</td>\n",
       "      <td>2020-01-02 02:59:05+00:00</td>\n",
       "      <td>Winners on Wall Street usually establish an in...</td>\n",
       "      <td>Global</td>\n",
       "      <td>6</td>\n",
       "      <td>APompliano</td>\n",
       "      <td>37</td>\n",
       "      <td>1535285</td>\n",
       "      <td>I invest in early stage companies, own #bitcoi...</td>\n",
       "      <td>1212568971054067712</td>\n",
       "    </tr>\n",
       "    <tr>\n",
       "      <th>48</th>\n",
       "      <td>1810</td>\n",
       "      <td>17674486</td>\n",
       "      <td>33071</td>\n",
       "      <td>253</td>\n",
       "      <td>2020-01-02 03:03:35+00:00</td>\n",
       "      <td>With gains of more than 9,000,000% since July ...</td>\n",
       "      <td>Moon Kingdom</td>\n",
       "      <td>21</td>\n",
       "      <td>MichellePhan</td>\n",
       "      <td>59</td>\n",
       "      <td>833424</td>\n",
       "      <td>#bitcoin</td>\n",
       "      <td>1212570100743589888</td>\n",
       "    </tr>\n",
       "    <tr>\n",
       "      <th>52</th>\n",
       "      <td>312</td>\n",
       "      <td>1413027896</td>\n",
       "      <td>23903</td>\n",
       "      <td>94</td>\n",
       "      <td>2020-01-02 13:43:36+00:00</td>\n",
       "      <td>2019 Crypto Returns\\nChainlink: +506%\\nTezos: ...</td>\n",
       "      <td>Join free newsletter here...</td>\n",
       "      <td>4</td>\n",
       "      <td>charliebilello</td>\n",
       "      <td>10</td>\n",
       "      <td>371360</td>\n",
       "      <td>Founder and CEO of Compound Capital Advisors. ...</td>\n",
       "      <td>1212731166568189952</td>\n",
       "    </tr>\n",
       "    <tr>\n",
       "      <th>9</th>\n",
       "      <td>2277</td>\n",
       "      <td>2438831503</td>\n",
       "      <td>22224</td>\n",
       "      <td>1701</td>\n",
       "      <td>2020-01-02 15:02:43+00:00</td>\n",
       "      <td>Paul Pelosi Jr.'s Russia Ties, charges of taki...</td>\n",
       "      <td>Washington, DC ��������</td>\n",
       "      <td>251</td>\n",
       "      <td>ChanelRion</td>\n",
       "      <td>156</td>\n",
       "      <td>433486</td>\n",
       "      <td>@OANN Chief White House Correspondent | https:...</td>\n",
       "      <td>1212751077474492416</td>\n",
       "    </tr>\n",
       "    <tr>\n",
       "      <th>185916</th>\n",
       "      <td>1254</td>\n",
       "      <td>339061487</td>\n",
       "      <td>63222</td>\n",
       "      <td>263</td>\n",
       "      <td>2020-01-02 15:06:40+00:00</td>\n",
       "      <td>Bitcoin did $673 billion in adjusted on-chain ...</td>\n",
       "      <td>Global</td>\n",
       "      <td>7</td>\n",
       "      <td>APompliano</td>\n",
       "      <td>69</td>\n",
       "      <td>1535285</td>\n",
       "      <td>I invest in early stage companies, own #bitcoi...</td>\n",
       "      <td>1212752072791203843</td>\n",
       "    </tr>\n",
       "    <tr>\n",
       "      <th>211050</th>\n",
       "      <td>295</td>\n",
       "      <td>23618940</td>\n",
       "      <td>35012</td>\n",
       "      <td>70</td>\n",
       "      <td>2020-01-02 15:23:15+00:00</td>\n",
       "      <td>2019 was a relatively quiet year for Bitcoin -...</td>\n",
       "      <td>Cyberspace</td>\n",
       "      <td>9</td>\n",
       "      <td>lopp</td>\n",
       "      <td>15</td>\n",
       "      <td>388374</td>\n",
       "      <td>Cypherpunk · Co-founder &amp; CTO @CasaHODL · @BTC...</td>\n",
       "      <td>1212756246157287429</td>\n",
       "    </tr>\n",
       "    <tr>\n",
       "      <th>232158</th>\n",
       "      <td>146</td>\n",
       "      <td>19546277</td>\n",
       "      <td>305812</td>\n",
       "      <td>45</td>\n",
       "      <td>2020-01-02 17:40:03+00:00</td>\n",
       "      <td>Highlight: “The understanding of digital money...</td>\n",
       "      <td>New York, NY</td>\n",
       "      <td>5</td>\n",
       "      <td>YahooFinance</td>\n",
       "      <td>15</td>\n",
       "      <td>1333043</td>\n",
       "      <td>The world’s biggest business news platform: ht...</td>\n",
       "      <td>1212790672018722816</td>\n",
       "    </tr>\n",
       "    <tr>\n",
       "      <th>23</th>\n",
       "      <td>168</td>\n",
       "      <td>1469101279</td>\n",
       "      <td>30944</td>\n",
       "      <td>45</td>\n",
       "      <td>2020-01-02 17:41:04+00:00</td>\n",
       "      <td>Tomorrow is the 11th anniversary of the Bitcoi...</td>\n",
       "      <td>57 countries and counting</td>\n",
       "      <td>0</td>\n",
       "      <td>aantonop</td>\n",
       "      <td>2</td>\n",
       "      <td>715105</td>\n",
       "      <td>#Bitcoin &amp; Open Blockchains, since 2012. \\n\\nA...</td>\n",
       "      <td>1212790928588595202</td>\n",
       "    </tr>\n",
       "    <tr>\n",
       "      <th>134859</th>\n",
       "      <td>97</td>\n",
       "      <td>928759224599040001</td>\n",
       "      <td>9636</td>\n",
       "      <td>50</td>\n",
       "      <td>2020-01-02 18:49:22+00:00</td>\n",
       "      <td>Bitcoin is not off to a great start in 2020 ht...</td>\n",
       "      <td>None</td>\n",
       "      <td>12</td>\n",
       "      <td>crypto</td>\n",
       "      <td>21</td>\n",
       "      <td>850123</td>\n",
       "      <td>A look at how cryptocurrencies and blockchain ...</td>\n",
       "      <td>1212808116527665152</td>\n",
       "    </tr>\n",
       "  </tbody>\n",
       "</table>\n",
       "</div>"
      ],
      "text/plain": [
       "        likes           author_id  author_tweets  retweets  \\\n",
       "185910    358           339061487          63222        61   \n",
       "185914    471           339061487          63222        76   \n",
       "48       1810            17674486          33071       253   \n",
       "52        312          1413027896          23903        94   \n",
       "9        2277          2438831503          22224      1701   \n",
       "185916   1254           339061487          63222       263   \n",
       "211050    295            23618940          35012        70   \n",
       "232158    146            19546277         305812        45   \n",
       "23        168          1469101279          30944        45   \n",
       "134859     97  928759224599040001           9636        50   \n",
       "\n",
       "                      created_at  \\\n",
       "185910 2020-01-02 01:24:26+00:00   \n",
       "185914 2020-01-02 02:59:05+00:00   \n",
       "48     2020-01-02 03:03:35+00:00   \n",
       "52     2020-01-02 13:43:36+00:00   \n",
       "9      2020-01-02 15:02:43+00:00   \n",
       "185916 2020-01-02 15:06:40+00:00   \n",
       "211050 2020-01-02 15:23:15+00:00   \n",
       "232158 2020-01-02 17:40:03+00:00   \n",
       "23     2020-01-02 17:41:04+00:00   \n",
       "134859 2020-01-02 18:49:22+00:00   \n",
       "\n",
       "                                                     text  \\\n",
       "185910  The team at @TheRealBlockFi is coming out firi...   \n",
       "185914  Winners on Wall Street usually establish an in...   \n",
       "48      With gains of more than 9,000,000% since July ...   \n",
       "52      2019 Crypto Returns\\nChainlink: +506%\\nTezos: ...   \n",
       "9       Paul Pelosi Jr.'s Russia Ties, charges of taki...   \n",
       "185916  Bitcoin did $673 billion in adjusted on-chain ...   \n",
       "211050  2019 was a relatively quiet year for Bitcoin -...   \n",
       "232158  Highlight: “The understanding of digital money...   \n",
       "23      Tomorrow is the 11th anniversary of the Bitcoi...   \n",
       "134859  Bitcoin is not off to a great start in 2020 ht...   \n",
       "\n",
       "                     author_location  quote_count        username  replies  \\\n",
       "185910                        Global           15      APompliano       37   \n",
       "185914                        Global            6      APompliano       37   \n",
       "48                      Moon Kingdom           21    MichellePhan       59   \n",
       "52      Join free newsletter here...            4  charliebilello       10   \n",
       "9            Washington, DC ��������          251      ChanelRion      156   \n",
       "185916                        Global            7      APompliano       69   \n",
       "211050                    Cyberspace            9            lopp       15   \n",
       "232158                  New York, NY            5    YahooFinance       15   \n",
       "23         57 countries and counting            0        aantonop        2   \n",
       "134859                          None           12          crypto       21   \n",
       "\n",
       "        author_followers                                 author_description  \\\n",
       "185910           1535285  I invest in early stage companies, own #bitcoi...   \n",
       "185914           1535285  I invest in early stage companies, own #bitcoi...   \n",
       "48                833424                                           #bitcoin   \n",
       "52                371360  Founder and CEO of Compound Capital Advisors. ...   \n",
       "9                 433486  @OANN Chief White House Correspondent | https:...   \n",
       "185916           1535285  I invest in early stage companies, own #bitcoi...   \n",
       "211050            388374  Cypherpunk · Co-founder & CTO @CasaHODL · @BTC...   \n",
       "232158           1333043  The world’s biggest business news platform: ht...   \n",
       "23                715105  #Bitcoin & Open Blockchains, since 2012. \\n\\nA...   \n",
       "134859            850123  A look at how cryptocurrencies and blockchain ...   \n",
       "\n",
       "                         id  \n",
       "185910  1212545148644679680  \n",
       "185914  1212568971054067712  \n",
       "48      1212570100743589888  \n",
       "52      1212731166568189952  \n",
       "9       1212751077474492416  \n",
       "185916  1212752072791203843  \n",
       "211050  1212756246157287429  \n",
       "232158  1212790672018722816  \n",
       "23      1212790928588595202  \n",
       "134859  1212808116527665152  "
      ]
     },
     "execution_count": 105,
     "metadata": {},
     "output_type": "execute_result"
    }
   ],
   "source": [
    "tweets_final_2.head(10)"
   ]
  },
  {
   "cell_type": "code",
   "execution_count": 106,
   "id": "9cbf2bfb-9a91-4693-be40-b486611d22c8",
   "metadata": {},
   "outputs": [
    {
     "data": {
      "text/html": [
       "<div>\n",
       "<style scoped>\n",
       "    .dataframe tbody tr th:only-of-type {\n",
       "        vertical-align: middle;\n",
       "    }\n",
       "\n",
       "    .dataframe tbody tr th {\n",
       "        vertical-align: top;\n",
       "    }\n",
       "\n",
       "    .dataframe thead th {\n",
       "        text-align: right;\n",
       "    }\n",
       "</style>\n",
       "<table border=\"1\" class=\"dataframe\">\n",
       "  <thead>\n",
       "    <tr style=\"text-align: right;\">\n",
       "      <th></th>\n",
       "      <th>likes</th>\n",
       "      <th>author_id</th>\n",
       "      <th>author_tweets</th>\n",
       "      <th>retweets</th>\n",
       "      <th>quote_count</th>\n",
       "      <th>replies</th>\n",
       "      <th>author_followers</th>\n",
       "      <th>id</th>\n",
       "    </tr>\n",
       "  </thead>\n",
       "  <tbody>\n",
       "    <tr>\n",
       "      <th>count</th>\n",
       "      <td>6670.000000</td>\n",
       "      <td>6.670000e+03</td>\n",
       "      <td>6.670000e+03</td>\n",
       "      <td>6670.000000</td>\n",
       "      <td>6670.000000</td>\n",
       "      <td>6670.000000</td>\n",
       "      <td>6.670000e+03</td>\n",
       "      <td>6.670000e+03</td>\n",
       "    </tr>\n",
       "    <tr>\n",
       "      <th>mean</th>\n",
       "      <td>4883.712444</td>\n",
       "      <td>1.428550e+17</td>\n",
       "      <td>4.627821e+04</td>\n",
       "      <td>940.995502</td>\n",
       "      <td>201.467166</td>\n",
       "      <td>509.922039</td>\n",
       "      <td>2.282220e+06</td>\n",
       "      <td>1.333718e+18</td>\n",
       "    </tr>\n",
       "    <tr>\n",
       "      <th>std</th>\n",
       "      <td>17025.948627</td>\n",
       "      <td>3.348284e+17</td>\n",
       "      <td>9.548943e+04</td>\n",
       "      <td>9845.222846</td>\n",
       "      <td>2757.405559</td>\n",
       "      <td>4161.732778</td>\n",
       "      <td>5.678861e+06</td>\n",
       "      <td>7.009016e+16</td>\n",
       "    </tr>\n",
       "    <tr>\n",
       "      <th>min</th>\n",
       "      <td>21.000000</td>\n",
       "      <td>1.200000e+01</td>\n",
       "      <td>3.500000e+01</td>\n",
       "      <td>16.000000</td>\n",
       "      <td>0.000000</td>\n",
       "      <td>0.000000</td>\n",
       "      <td>3.549000e+03</td>\n",
       "      <td>1.212545e+18</td>\n",
       "    </tr>\n",
       "    <tr>\n",
       "      <th>25%</th>\n",
       "      <td>475.000000</td>\n",
       "      <td>5.564303e+07</td>\n",
       "      <td>7.778000e+03</td>\n",
       "      <td>119.000000</td>\n",
       "      <td>12.000000</td>\n",
       "      <td>42.000000</td>\n",
       "      <td>4.675625e+05</td>\n",
       "      <td>1.272981e+18</td>\n",
       "    </tr>\n",
       "    <tr>\n",
       "      <th>50%</th>\n",
       "      <td>2010.000000</td>\n",
       "      <td>3.114302e+08</td>\n",
       "      <td>2.104400e+04</td>\n",
       "      <td>380.000000</td>\n",
       "      <td>36.000000</td>\n",
       "      <td>143.000000</td>\n",
       "      <td>1.276208e+06</td>\n",
       "      <td>1.333420e+18</td>\n",
       "    </tr>\n",
       "    <tr>\n",
       "      <th>75%</th>\n",
       "      <td>5320.750000</td>\n",
       "      <td>1.598709e+09</td>\n",
       "      <td>6.322300e+04</td>\n",
       "      <td>851.750000</td>\n",
       "      <td>89.000000</td>\n",
       "      <td>344.000000</td>\n",
       "      <td>2.262378e+06</td>\n",
       "      <td>1.394558e+18</td>\n",
       "    </tr>\n",
       "    <tr>\n",
       "      <th>max</th>\n",
       "      <td>864408.000000</td>\n",
       "      <td>1.387498e+18</td>\n",
       "      <td>1.237849e+06</td>\n",
       "      <td>777852.000000</td>\n",
       "      <td>181047.000000</td>\n",
       "      <td>175028.000000</td>\n",
       "      <td>7.763731e+07</td>\n",
       "      <td>1.454901e+18</td>\n",
       "    </tr>\n",
       "  </tbody>\n",
       "</table>\n",
       "</div>"
      ],
      "text/plain": [
       "               likes     author_id  author_tweets       retweets  \\\n",
       "count    6670.000000  6.670000e+03   6.670000e+03    6670.000000   \n",
       "mean     4883.712444  1.428550e+17   4.627821e+04     940.995502   \n",
       "std     17025.948627  3.348284e+17   9.548943e+04    9845.222846   \n",
       "min        21.000000  1.200000e+01   3.500000e+01      16.000000   \n",
       "25%       475.000000  5.564303e+07   7.778000e+03     119.000000   \n",
       "50%      2010.000000  3.114302e+08   2.104400e+04     380.000000   \n",
       "75%      5320.750000  1.598709e+09   6.322300e+04     851.750000   \n",
       "max    864408.000000  1.387498e+18   1.237849e+06  777852.000000   \n",
       "\n",
       "         quote_count        replies  author_followers            id  \n",
       "count    6670.000000    6670.000000      6.670000e+03  6.670000e+03  \n",
       "mean      201.467166     509.922039      2.282220e+06  1.333718e+18  \n",
       "std      2757.405559    4161.732778      5.678861e+06  7.009016e+16  \n",
       "min         0.000000       0.000000      3.549000e+03  1.212545e+18  \n",
       "25%        12.000000      42.000000      4.675625e+05  1.272981e+18  \n",
       "50%        36.000000     143.000000      1.276208e+06  1.333420e+18  \n",
       "75%        89.000000     344.000000      2.262378e+06  1.394558e+18  \n",
       "max    181047.000000  175028.000000      7.763731e+07  1.454901e+18  "
      ]
     },
     "execution_count": 106,
     "metadata": {},
     "output_type": "execute_result"
    }
   ],
   "source": [
    "tweets_final_2.describe()"
   ]
  },
  {
   "cell_type": "code",
   "execution_count": 107,
   "id": "6c0d1502-71cc-4aba-a9a2-3534d642cc5d",
   "metadata": {},
   "outputs": [
    {
     "data": {
      "text/plain": [
       "702"
      ]
     },
     "execution_count": 107,
     "metadata": {},
     "output_type": "execute_result"
    }
   ],
   "source": [
    "tweets_final_2['username'].nunique()"
   ]
  },
  {
   "cell_type": "markdown",
   "id": "e2f6f037-672b-4632-8a2a-8c95b7c65233",
   "metadata": {},
   "source": [
    "So we only kept 6670 tweets, which means we have 10 tweets per day. Now the mean of retweets goes up to 940 retweets with a median of 380. There are still outliers that affect the mean, but we expect these are the ones that affect the most the prediction. On the other hand, there are only 702 unique users."
   ]
  },
  {
   "cell_type": "code",
   "execution_count": 108,
   "id": "96a28753-4619-4591-afce-c595dd76c0bb",
   "metadata": {},
   "outputs": [
    {
     "data": {
      "image/png": "[encoded data removed]",
      "text/plain": [
       "<Figure size 432x288 with 1 Axes>"
      ]
     },
     "metadata": {},
     "output_type": "display_data"
    }
   ],
   "source": [
    "hist_retweets = tweets_final_2.query('retweets < retweets.quantile(.9)').hist(column=['retweets'])"
   ]
  },
  {
   "cell_type": "code",
   "execution_count": 109,
   "id": "c1115486-9f7f-4b3d-ab3f-623a18bc4fe8",
   "metadata": {},
   "outputs": [
    {
     "data": {
      "image/png": "[encoded data removed]",
      "text/plain": [
       "<Figure size 432x288 with 1 Axes>"
      ]
     },
     "metadata": {},
     "output_type": "display_data"
    }
   ],
   "source": [
    "hist_likes = tweets_final_2.query('likes < likes.quantile(.9)').hist(column=['likes'])"
   ]
  },
  {
   "cell_type": "code",
   "execution_count": 111,
   "id": "498c64be-6ef8-47d4-8419-0dcdd736a18c",
   "metadata": {},
   "outputs": [
    {
     "data": {
      "image/png": "[encoded data removed]",
      "text/plain": [
       "<Figure size 432x288 with 1 Axes>"
      ]
     },
     "metadata": {},
     "output_type": "display_data"
    }
   ],
   "source": [
    "hist_author = tweets_final_2.query('author_followers < author_followers.quantile(.9)').hist(column=['author_followers'])"
   ]
  },
  {
   "cell_type": "markdown",
   "id": "8c8f60e7-7e29-4de3-9323-5e341092fde8",
   "metadata": {},
   "source": [
    "## Sentiment Analysis"
   ]
  },
  {
   "cell_type": "markdown",
   "id": "ed112a5e-d248-4e71-a601-b7813811ce03",
   "metadata": {},
   "source": [
    "Now we are going to use the Google API for sentiment analysis to analyze the tweets. We are going to get the score whether is positive 1, negative -1, or neutral 0; as well as the magnitude of the sentiment that can go from 0 to inf. Then we are going to create a variable for each day that shows the mean of the score and the magnitude. "
   ]
  },
  {
   "cell_type": "code",
   "execution_count": 112,
   "id": "b2d3a108-e072-47df-996a-c589d43ab42d",
   "metadata": {},
   "outputs": [],
   "source": [
    "from google.cloud import language"
   ]
  },
  {
   "cell_type": "code",
   "execution_count": 113,
   "id": "1678097f-081d-4f95-be2a-bd0ac7414cc0",
   "metadata": {},
   "outputs": [],
   "source": [
    "def analyze_text_sentiment(text):\n",
    "    client = language.LanguageServiceClient()\n",
    "    document = language.Document(content=text, type_=language.Document.Type.PLAIN_TEXT)\n",
    "\n",
    "    response = client.analyze_sentiment(document=document)\n",
    "\n",
    "    sentiment = response.document_sentiment\n",
    "    results = dict(\n",
    "        text=text,\n",
    "        score=sentiment.score,\n",
    "        magnitude=sentiment.magnitude,\n",
    "    )\n",
    "    return (results)"
   ]
  },
  {
   "cell_type": "code",
   "execution_count": 114,
   "id": "5d0cc3c9-cb18-4cf9-8e33-a7cd4d31358b",
   "metadata": {},
   "outputs": [],
   "source": [
    "score=[]\n",
    "magnitude=[]\n",
    "for i in range (0, 600):\n",
    "    analysis=analyze_text_sentiment(tweets_final_2.iloc[i][5])\n",
    "    score.append(analysis['score'])\n",
    "    magnitude.append(analysis['magnitude'])\n",
    "    "
   ]
  },
  {
   "cell_type": "markdown",
   "id": "05b043c3-f691-4b92-95bc-701b6e202a94",
   "metadata": {},
   "source": [
    "There is a limit using the NLP Google API that only allows us to do 600 requests per minute, therefore we have to request per 600 tweets"
   ]
  },
  {
   "cell_type": "code",
   "execution_count": 117,
   "id": "448e8eab-36d6-476f-9f45-13ae12441e90",
   "metadata": {},
   "outputs": [],
   "source": [
    "for i in range (600, 1200):\n",
    "    analysis=analyze_text_sentiment(tweets_final_2.iloc[i][5])\n",
    "    score.append(analysis['score'])\n",
    "    magnitude.append(analysis['magnitude'])"
   ]
  },
  {
   "cell_type": "code",
   "execution_count": 118,
   "id": "ebef19da-428c-480c-8b00-0dec47659668",
   "metadata": {},
   "outputs": [],
   "source": [
    "for i in range (1200, 1800):\n",
    "    analysis=analyze_text_sentiment(tweets_final_2.iloc[i][5])\n",
    "    score.append(analysis['score'])\n",
    "    magnitude.append(analysis['magnitude'])"
   ]
  },
  {
   "cell_type": "code",
   "execution_count": 119,
   "id": "f9f77445-bc06-40b4-9d65-f1a34ab7db14",
   "metadata": {},
   "outputs": [],
   "source": [
    "for i in range (1800, 2400):\n",
    "    analysis=analyze_text_sentiment(tweets_final_2.iloc[i][5])\n",
    "    score.append(analysis['score'])\n",
    "    magnitude.append(analysis['magnitude'])"
   ]
  },
  {
   "cell_type": "code",
   "execution_count": 120,
   "id": "99396035-2ef6-4549-b979-a9abdfd0511a",
   "metadata": {},
   "outputs": [],
   "source": [
    "for i in range (2400, 3000):\n",
    "    analysis=analyze_text_sentiment(tweets_final_2.iloc[i][5])\n",
    "    score.append(analysis['score'])\n",
    "    magnitude.append(analysis['magnitude'])"
   ]
  },
  {
   "cell_type": "code",
   "execution_count": 121,
   "id": "cbf05169-55e1-4a95-a3fb-fdd66b56fb1e",
   "metadata": {},
   "outputs": [],
   "source": [
    "for i in range (3000, 3600):\n",
    "    analysis=analyze_text_sentiment(tweets_final_2.iloc[i][5])\n",
    "    score.append(analysis['score'])\n",
    "    magnitude.append(analysis['magnitude'])"
   ]
  },
  {
   "cell_type": "code",
   "execution_count": 122,
   "id": "aabf1176-6b41-4816-87b1-bb936cb809ba",
   "metadata": {},
   "outputs": [],
   "source": [
    "for i in range (3600, 4200):\n",
    "    analysis=analyze_text_sentiment(tweets_final_2.iloc[i][5])\n",
    "    score.append(analysis['score'])\n",
    "    magnitude.append(analysis['magnitude'])"
   ]
  },
  {
   "cell_type": "code",
   "execution_count": 123,
   "id": "5ca72a3c-a9c5-4e6d-87b9-d166c9972ec5",
   "metadata": {},
   "outputs": [],
   "source": [
    "for i in range (4200, 4800):\n",
    "    analysis=analyze_text_sentiment(tweets_final_2.iloc[i][5])\n",
    "    score.append(analysis['score'])\n",
    "    magnitude.append(analysis['magnitude'])"
   ]
  },
  {
   "cell_type": "code",
   "execution_count": 124,
   "id": "c0ec0927-e8a1-4a67-84c5-d554586fb61c",
   "metadata": {},
   "outputs": [],
   "source": [
    "for i in range (4800, 5400):\n",
    "    analysis=analyze_text_sentiment(tweets_final_2.iloc[i][5])\n",
    "    score.append(analysis['score'])\n",
    "    magnitude.append(analysis['magnitude'])"
   ]
  },
  {
   "cell_type": "code",
   "execution_count": 125,
   "id": "36811d9b-ade5-4344-ae79-72ce0dc03311",
   "metadata": {},
   "outputs": [],
   "source": [
    "for i in range (5400, 6000):\n",
    "    analysis=analyze_text_sentiment(tweets_final_2.iloc[i][5])\n",
    "    score.append(analysis['score'])\n",
    "    magnitude.append(analysis['magnitude'])"
   ]
  },
  {
   "cell_type": "code",
   "execution_count": 126,
   "id": "4d6a050b-ae30-45ff-a666-541123ff3d14",
   "metadata": {},
   "outputs": [],
   "source": [
    "for i in range (6000, 6670):\n",
    "    analysis=analyze_text_sentiment(tweets_final_2.iloc[i][5])\n",
    "    score.append(analysis['score'])\n",
    "    magnitude.append(analysis['magnitude'])"
   ]
  },
  {
   "cell_type": "code",
   "execution_count": 127,
   "id": "0d0faefe-26dc-463b-bc37-b223a84d1f95",
   "metadata": {},
   "outputs": [
    {
     "data": {
      "text/plain": [
       "6670"
      ]
     },
     "execution_count": 127,
     "metadata": {},
     "output_type": "execute_result"
    }
   ],
   "source": [
    "len(score)"
   ]
  },
  {
   "cell_type": "code",
   "execution_count": 128,
   "id": "95dd0a0f-b5fa-4fd5-ac3e-3a0c05cc802e",
   "metadata": {},
   "outputs": [
    {
     "data": {
      "text/html": [
       "<div>\n",
       "<style scoped>\n",
       "    .dataframe tbody tr th:only-of-type {\n",
       "        vertical-align: middle;\n",
       "    }\n",
       "\n",
       "    .dataframe tbody tr th {\n",
       "        vertical-align: top;\n",
       "    }\n",
       "\n",
       "    .dataframe thead th {\n",
       "        text-align: right;\n",
       "    }\n",
       "</style>\n",
       "<table border=\"1\" class=\"dataframe\">\n",
       "  <thead>\n",
       "    <tr style=\"text-align: right;\">\n",
       "      <th></th>\n",
       "      <th>likes</th>\n",
       "      <th>author_id</th>\n",
       "      <th>author_tweets</th>\n",
       "      <th>retweets</th>\n",
       "      <th>created_at</th>\n",
       "      <th>text</th>\n",
       "      <th>author_location</th>\n",
       "      <th>quote_count</th>\n",
       "      <th>username</th>\n",
       "      <th>replies</th>\n",
       "      <th>author_followers</th>\n",
       "      <th>author_description</th>\n",
       "      <th>id</th>\n",
       "      <th>Score</th>\n",
       "      <th>Magnitude</th>\n",
       "    </tr>\n",
       "  </thead>\n",
       "  <tbody>\n",
       "    <tr>\n",
       "      <th>185910</th>\n",
       "      <td>358</td>\n",
       "      <td>339061487</td>\n",
       "      <td>63222</td>\n",
       "      <td>61</td>\n",
       "      <td>2020-01-02 01:24:26+00:00</td>\n",
       "      <td>The team at @TheRealBlockFi is coming out firi...</td>\n",
       "      <td>Global</td>\n",
       "      <td>15</td>\n",
       "      <td>APompliano</td>\n",
       "      <td>37</td>\n",
       "      <td>1535285</td>\n",
       "      <td>I invest in early stage companies, own #bitcoi...</td>\n",
       "      <td>1212545148644679680</td>\n",
       "      <td>-0.1</td>\n",
       "      <td>1.2</td>\n",
       "    </tr>\n",
       "    <tr>\n",
       "      <th>185914</th>\n",
       "      <td>471</td>\n",
       "      <td>339061487</td>\n",
       "      <td>63222</td>\n",
       "      <td>76</td>\n",
       "      <td>2020-01-02 02:59:05+00:00</td>\n",
       "      <td>Winners on Wall Street usually establish an in...</td>\n",
       "      <td>Global</td>\n",
       "      <td>6</td>\n",
       "      <td>APompliano</td>\n",
       "      <td>37</td>\n",
       "      <td>1535285</td>\n",
       "      <td>I invest in early stage companies, own #bitcoi...</td>\n",
       "      <td>1212568971054067712</td>\n",
       "      <td>0.0</td>\n",
       "      <td>0.7</td>\n",
       "    </tr>\n",
       "    <tr>\n",
       "      <th>48</th>\n",
       "      <td>1810</td>\n",
       "      <td>17674486</td>\n",
       "      <td>33071</td>\n",
       "      <td>253</td>\n",
       "      <td>2020-01-02 03:03:35+00:00</td>\n",
       "      <td>With gains of more than 9,000,000% since July ...</td>\n",
       "      <td>Moon Kingdom</td>\n",
       "      <td>21</td>\n",
       "      <td>MichellePhan</td>\n",
       "      <td>59</td>\n",
       "      <td>833424</td>\n",
       "      <td>#bitcoin</td>\n",
       "      <td>1212570100743589888</td>\n",
       "      <td>0.3</td>\n",
       "      <td>1.1</td>\n",
       "    </tr>\n",
       "    <tr>\n",
       "      <th>52</th>\n",
       "      <td>312</td>\n",
       "      <td>1413027896</td>\n",
       "      <td>23903</td>\n",
       "      <td>94</td>\n",
       "      <td>2020-01-02 13:43:36+00:00</td>\n",
       "      <td>2019 Crypto Returns\\nChainlink: +506%\\nTezos: ...</td>\n",
       "      <td>Join free newsletter here...</td>\n",
       "      <td>4</td>\n",
       "      <td>charliebilello</td>\n",
       "      <td>10</td>\n",
       "      <td>371360</td>\n",
       "      <td>Founder and CEO of Compound Capital Advisors. ...</td>\n",
       "      <td>1212731166568189952</td>\n",
       "      <td>0.2</td>\n",
       "      <td>0.2</td>\n",
       "    </tr>\n",
       "    <tr>\n",
       "      <th>9</th>\n",
       "      <td>2277</td>\n",
       "      <td>2438831503</td>\n",
       "      <td>22224</td>\n",
       "      <td>1701</td>\n",
       "      <td>2020-01-02 15:02:43+00:00</td>\n",
       "      <td>Paul Pelosi Jr.'s Russia Ties, charges of taki...</td>\n",
       "      <td>Washington, DC ��������</td>\n",
       "      <td>251</td>\n",
       "      <td>ChanelRion</td>\n",
       "      <td>156</td>\n",
       "      <td>433486</td>\n",
       "      <td>@OANN Chief White House Correspondent | https:...</td>\n",
       "      <td>1212751077474492416</td>\n",
       "      <td>-0.2</td>\n",
       "      <td>2.0</td>\n",
       "    </tr>\n",
       "    <tr>\n",
       "      <th>185916</th>\n",
       "      <td>1254</td>\n",
       "      <td>339061487</td>\n",
       "      <td>63222</td>\n",
       "      <td>263</td>\n",
       "      <td>2020-01-02 15:06:40+00:00</td>\n",
       "      <td>Bitcoin did $673 billion in adjusted on-chain ...</td>\n",
       "      <td>Global</td>\n",
       "      <td>7</td>\n",
       "      <td>APompliano</td>\n",
       "      <td>69</td>\n",
       "      <td>1535285</td>\n",
       "      <td>I invest in early stage companies, own #bitcoi...</td>\n",
       "      <td>1212752072791203843</td>\n",
       "      <td>0.0</td>\n",
       "      <td>0.1</td>\n",
       "    </tr>\n",
       "    <tr>\n",
       "      <th>211050</th>\n",
       "      <td>295</td>\n",
       "      <td>23618940</td>\n",
       "      <td>35012</td>\n",
       "      <td>70</td>\n",
       "      <td>2020-01-02 15:23:15+00:00</td>\n",
       "      <td>2019 was a relatively quiet year for Bitcoin -...</td>\n",
       "      <td>Cyberspace</td>\n",
       "      <td>9</td>\n",
       "      <td>lopp</td>\n",
       "      <td>15</td>\n",
       "      <td>388374</td>\n",
       "      <td>Cypherpunk · Co-founder &amp; CTO @CasaHODL · @BTC...</td>\n",
       "      <td>1212756246157287429</td>\n",
       "      <td>0.4</td>\n",
       "      <td>0.9</td>\n",
       "    </tr>\n",
       "    <tr>\n",
       "      <th>232158</th>\n",
       "      <td>146</td>\n",
       "      <td>19546277</td>\n",
       "      <td>305812</td>\n",
       "      <td>45</td>\n",
       "      <td>2020-01-02 17:40:03+00:00</td>\n",
       "      <td>Highlight: “The understanding of digital money...</td>\n",
       "      <td>New York, NY</td>\n",
       "      <td>5</td>\n",
       "      <td>YahooFinance</td>\n",
       "      <td>15</td>\n",
       "      <td>1333043</td>\n",
       "      <td>The world’s biggest business news platform: ht...</td>\n",
       "      <td>1212790672018722816</td>\n",
       "      <td>0.0</td>\n",
       "      <td>0.3</td>\n",
       "    </tr>\n",
       "    <tr>\n",
       "      <th>23</th>\n",
       "      <td>168</td>\n",
       "      <td>1469101279</td>\n",
       "      <td>30944</td>\n",
       "      <td>45</td>\n",
       "      <td>2020-01-02 17:41:04+00:00</td>\n",
       "      <td>Tomorrow is the 11th anniversary of the Bitcoi...</td>\n",
       "      <td>57 countries and counting</td>\n",
       "      <td>0</td>\n",
       "      <td>aantonop</td>\n",
       "      <td>2</td>\n",
       "      <td>715105</td>\n",
       "      <td>#Bitcoin &amp; Open Blockchains, since 2012. \\n\\nA...</td>\n",
       "      <td>1212790928588595202</td>\n",
       "      <td>0.0</td>\n",
       "      <td>0.6</td>\n",
       "    </tr>\n",
       "    <tr>\n",
       "      <th>134859</th>\n",
       "      <td>97</td>\n",
       "      <td>928759224599040001</td>\n",
       "      <td>9636</td>\n",
       "      <td>50</td>\n",
       "      <td>2020-01-02 18:49:22+00:00</td>\n",
       "      <td>Bitcoin is not off to a great start in 2020 ht...</td>\n",
       "      <td>None</td>\n",
       "      <td>12</td>\n",
       "      <td>crypto</td>\n",
       "      <td>21</td>\n",
       "      <td>850123</td>\n",
       "      <td>A look at how cryptocurrencies and blockchain ...</td>\n",
       "      <td>1212808116527665152</td>\n",
       "      <td>-0.6</td>\n",
       "      <td>0.6</td>\n",
       "    </tr>\n",
       "  </tbody>\n",
       "</table>\n",
       "</div>"
      ],
      "text/plain": [
       "        likes           author_id  author_tweets  retweets  \\\n",
       "185910    358           339061487          63222        61   \n",
       "185914    471           339061487          63222        76   \n",
       "48       1810            17674486          33071       253   \n",
       "52        312          1413027896          23903        94   \n",
       "9        2277          2438831503          22224      1701   \n",
       "185916   1254           339061487          63222       263   \n",
       "211050    295            23618940          35012        70   \n",
       "232158    146            19546277         305812        45   \n",
       "23        168          1469101279          30944        45   \n",
       "134859     97  928759224599040001           9636        50   \n",
       "\n",
       "                      created_at  \\\n",
       "185910 2020-01-02 01:24:26+00:00   \n",
       "185914 2020-01-02 02:59:05+00:00   \n",
       "48     2020-01-02 03:03:35+00:00   \n",
       "52     2020-01-02 13:43:36+00:00   \n",
       "9      2020-01-02 15:02:43+00:00   \n",
       "185916 2020-01-02 15:06:40+00:00   \n",
       "211050 2020-01-02 15:23:15+00:00   \n",
       "232158 2020-01-02 17:40:03+00:00   \n",
       "23     2020-01-02 17:41:04+00:00   \n",
       "134859 2020-01-02 18:49:22+00:00   \n",
       "\n",
       "                                                     text  \\\n",
       "185910  The team at @TheRealBlockFi is coming out firi...   \n",
       "185914  Winners on Wall Street usually establish an in...   \n",
       "48      With gains of more than 9,000,000% since July ...   \n",
       "52      2019 Crypto Returns\\nChainlink: +506%\\nTezos: ...   \n",
       "9       Paul Pelosi Jr.'s Russia Ties, charges of taki...   \n",
       "185916  Bitcoin did $673 billion in adjusted on-chain ...   \n",
       "211050  2019 was a relatively quiet year for Bitcoin -...   \n",
       "232158  Highlight: “The understanding of digital money...   \n",
       "23      Tomorrow is the 11th anniversary of the Bitcoi...   \n",
       "134859  Bitcoin is not off to a great start in 2020 ht...   \n",
       "\n",
       "                     author_location  quote_count        username  replies  \\\n",
       "185910                        Global           15      APompliano       37   \n",
       "185914                        Global            6      APompliano       37   \n",
       "48                      Moon Kingdom           21    MichellePhan       59   \n",
       "52      Join free newsletter here...            4  charliebilello       10   \n",
       "9            Washington, DC ��������          251      ChanelRion      156   \n",
       "185916                        Global            7      APompliano       69   \n",
       "211050                    Cyberspace            9            lopp       15   \n",
       "232158                  New York, NY            5    YahooFinance       15   \n",
       "23         57 countries and counting            0        aantonop        2   \n",
       "134859                          None           12          crypto       21   \n",
       "\n",
       "        author_followers                                 author_description  \\\n",
       "185910           1535285  I invest in early stage companies, own #bitcoi...   \n",
       "185914           1535285  I invest in early stage companies, own #bitcoi...   \n",
       "48                833424                                           #bitcoin   \n",
       "52                371360  Founder and CEO of Compound Capital Advisors. ...   \n",
       "9                 433486  @OANN Chief White House Correspondent | https:...   \n",
       "185916           1535285  I invest in early stage companies, own #bitcoi...   \n",
       "211050            388374  Cypherpunk · Co-founder & CTO @CasaHODL · @BTC...   \n",
       "232158           1333043  The world’s biggest business news platform: ht...   \n",
       "23                715105  #Bitcoin & Open Blockchains, since 2012. \\n\\nA...   \n",
       "134859            850123  A look at how cryptocurrencies and blockchain ...   \n",
       "\n",
       "                         id  Score  Magnitude  \n",
       "185910  1212545148644679680   -0.1        1.2  \n",
       "185914  1212568971054067712    0.0        0.7  \n",
       "48      1212570100743589888    0.3        1.1  \n",
       "52      1212731166568189952    0.2        0.2  \n",
       "9       1212751077474492416   -0.2        2.0  \n",
       "185916  1212752072791203843    0.0        0.1  \n",
       "211050  1212756246157287429    0.4        0.9  \n",
       "232158  1212790672018722816    0.0        0.3  \n",
       "23      1212790928588595202    0.0        0.6  \n",
       "134859  1212808116527665152   -0.6        0.6  "
      ]
     },
     "execution_count": 128,
     "metadata": {},
     "output_type": "execute_result"
    }
   ],
   "source": [
    "tweets_final_2['Score']= score\n",
    "tweets_final_2['Magnitude']= magnitude\n",
    "tweets_final_2.head(10)"
   ]
  },
  {
   "cell_type": "markdown",
   "id": "113ebab0-9f71-455f-8f59-014302d346af",
   "metadata": {},
   "source": [
    "We created two columns, one to store the score and the other for the magnitude. This data frame was stored as '**top_tweets.csv**'"
   ]
  },
  {
   "cell_type": "code",
   "execution_count": 130,
   "id": "ce67700f-483e-4734-8de5-50867587e835",
   "metadata": {},
   "outputs": [],
   "source": [
    "score_magnitude = tweets_final_2.groupby(np.arange(len(tweets_final_2))//10).mean()\n",
    "mean_day_score=score_magnitude['Score']\n",
    "mean_day_magnitude=score_magnitude['Magnitude']"
   ]
  },
  {
   "cell_type": "code",
   "execution_count": 131,
   "id": "84edd9d3-6f88-450f-8287-f30e7973596a",
   "metadata": {},
   "outputs": [
    {
     "data": {
      "text/html": [
       "<div>\n",
       "<style scoped>\n",
       "    .dataframe tbody tr th:only-of-type {\n",
       "        vertical-align: middle;\n",
       "    }\n",
       "\n",
       "    .dataframe tbody tr th {\n",
       "        vertical-align: top;\n",
       "    }\n",
       "\n",
       "    .dataframe thead th {\n",
       "        text-align: right;\n",
       "    }\n",
       "</style>\n",
       "<table border=\"1\" class=\"dataframe\">\n",
       "  <thead>\n",
       "    <tr style=\"text-align: right;\">\n",
       "      <th></th>\n",
       "      <th>Date</th>\n",
       "      <th>Mean Score</th>\n",
       "      <th>Mean Magnitude</th>\n",
       "    </tr>\n",
       "  </thead>\n",
       "  <tbody>\n",
       "    <tr>\n",
       "      <th>0</th>\n",
       "      <td>2020-01-02</td>\n",
       "      <td>-7.450581e-10</td>\n",
       "      <td>0.77</td>\n",
       "    </tr>\n",
       "    <tr>\n",
       "      <th>1</th>\n",
       "      <td>2020-01-03</td>\n",
       "      <td>2.200000e-01</td>\n",
       "      <td>1.57</td>\n",
       "    </tr>\n",
       "    <tr>\n",
       "      <th>2</th>\n",
       "      <td>2020-01-04</td>\n",
       "      <td>1.000000e-01</td>\n",
       "      <td>1.12</td>\n",
       "    </tr>\n",
       "    <tr>\n",
       "      <th>3</th>\n",
       "      <td>2020-01-05</td>\n",
       "      <td>2.980232e-09</td>\n",
       "      <td>0.87</td>\n",
       "    </tr>\n",
       "    <tr>\n",
       "      <th>4</th>\n",
       "      <td>2020-01-06</td>\n",
       "      <td>-9.999999e-03</td>\n",
       "      <td>0.56</td>\n",
       "    </tr>\n",
       "    <tr>\n",
       "      <th>...</th>\n",
       "      <td>...</td>\n",
       "      <td>...</td>\n",
       "      <td>...</td>\n",
       "    </tr>\n",
       "    <tr>\n",
       "      <th>662</th>\n",
       "      <td>2021-10-27</td>\n",
       "      <td>1.300000e-01</td>\n",
       "      <td>0.71</td>\n",
       "    </tr>\n",
       "    <tr>\n",
       "      <th>663</th>\n",
       "      <td>2021-10-28</td>\n",
       "      <td>-5.000000e-02</td>\n",
       "      <td>0.71</td>\n",
       "    </tr>\n",
       "    <tr>\n",
       "      <th>664</th>\n",
       "      <td>2021-10-29</td>\n",
       "      <td>1.300000e-01</td>\n",
       "      <td>0.54</td>\n",
       "    </tr>\n",
       "    <tr>\n",
       "      <th>665</th>\n",
       "      <td>2021-10-30</td>\n",
       "      <td>-6.000000e-02</td>\n",
       "      <td>0.92</td>\n",
       "    </tr>\n",
       "    <tr>\n",
       "      <th>666</th>\n",
       "      <td>2021-10-31</td>\n",
       "      <td>1.400000e-01</td>\n",
       "      <td>0.63</td>\n",
       "    </tr>\n",
       "  </tbody>\n",
       "</table>\n",
       "<p>667 rows × 3 columns</p>\n",
       "</div>"
      ],
      "text/plain": [
       "           Date    Mean Score  Mean Magnitude\n",
       "0    2020-01-02 -7.450581e-10            0.77\n",
       "1    2020-01-03  2.200000e-01            1.57\n",
       "2    2020-01-04  1.000000e-01            1.12\n",
       "3    2020-01-05  2.980232e-09            0.87\n",
       "4    2020-01-06 -9.999999e-03            0.56\n",
       "..          ...           ...             ...\n",
       "662  2021-10-27  1.300000e-01            0.71\n",
       "663  2021-10-28 -5.000000e-02            0.71\n",
       "664  2021-10-29  1.300000e-01            0.54\n",
       "665  2021-10-30 -6.000000e-02            0.92\n",
       "666  2021-10-31  1.400000e-01            0.63\n",
       "\n",
       "[667 rows x 3 columns]"
      ]
     },
     "execution_count": 131,
     "metadata": {},
     "output_type": "execute_result"
    }
   ],
   "source": [
    "Mean_scores = pd.DataFrame(x, columns=['Date'])\n",
    "Mean_scores['Mean Score']=mean_day_score\n",
    "Mean_scores['Mean Magnitude']=mean_day_magnitude\n",
    "Mean_scores"
   ]
  },
  {
   "cell_type": "markdown",
   "id": "80708336-635a-4070-a55d-4e710c1f826f",
   "metadata": {},
   "source": [
    "Mean_scores contains the mean score and magnitude of the tweets of each day. It was stored as '**day_scores.csv**'"
   ]
  },
  {
   "cell_type": "markdown",
   "id": "b4880c10-b71b-457a-9f94-55a9fe2439c9",
   "metadata": {},
   "source": [
    "# Exploratory Data Analysis and Feature Engineering: Yahoo Finance Data"
   ]
  },
  {
   "cell_type": "code",
   "execution_count": 47,
   "id": "1f175224-33da-449f-b7c7-b20ffb2e464a",
   "metadata": {},
   "outputs": [],
   "source": [
    "import yfinance as yf\n",
    "import pandas as pd\n",
    "from datetime import datetime\n",
    "import json\n",
    "from google.cloud import storage\n",
    "import yaml"
   ]
  },
  {
   "cell_type": "markdown",
   "id": "4984539d-84dc-4d19-b539-fb845651faf5",
   "metadata": {},
   "source": [
    "## First look of our Data:"
   ]
  },
  {
   "cell_type": "code",
   "execution_count": 52,
   "id": "fff870d8-715f-430f-9327-eb1b23d81c50",
   "metadata": {},
   "outputs": [
    {
     "name": "stdout",
     "output_type": "stream",
     "text": [
      "[*********************100%***********************]  1 of 1 completed\n",
      "Number of registers: 2761\n"
     ]
    },
    {
     "data": {
      "image/png": "[encoded data removed]",
      "text/plain": [
       "<Figure size 1080x360 with 1 Axes>"
      ]
     },
     "metadata": {},
     "output_type": "display_data"
    }
   ],
   "source": [
    "start = datetime(2013,1,1)\n",
    "end = datetime.now().date().isoformat()\n",
    "symbol = 'BTC-USD'\n",
    "\n",
    "df = yf.download(symbol, start=start, end = end)\n",
    "#df.to_csv('bitcoin_prueba.csv')\n",
    "\n",
    "df['Adj Close'].plot(figsize=(15,5))\n",
    "print('Number of registers:', len(df))"
   ]
  },
  {
   "cell_type": "code",
   "execution_count": 56,
   "id": "16e330bc-09ab-4ca0-87af-3fbf56700473",
   "metadata": {},
   "outputs": [],
   "source": [
    "df = pd.read_csv('./data/bitcoin_prueba.csv')\n"
   ]
  },
  {
   "cell_type": "markdown",
   "id": "ebe1e81a-2780-448a-becc-ab20317bcb29",
   "metadata": {},
   "source": [
    "# Preparation of data for ML"
   ]
  },
  {
   "cell_type": "markdown",
   "id": "2895f8d9-bec2-4c30-a60a-ffeb206fe127",
   "metadata": {},
   "source": [
    "We only have tweets from January 2020 to october 2021. So, we will select the pricees of bitcoin of those dates for traning the model."
   ]
  },
  {
   "cell_type": "code",
   "execution_count": 57,
   "id": "ccbb82a9-a2ff-4ced-81f5-6593cea94318",
   "metadata": {},
   "outputs": [
    {
     "data": {
      "text/html": [
       "<div>\n",
       "<style scoped>\n",
       "    .dataframe tbody tr th:only-of-type {\n",
       "        vertical-align: middle;\n",
       "    }\n",
       "\n",
       "    .dataframe tbody tr th {\n",
       "        vertical-align: top;\n",
       "    }\n",
       "\n",
       "    .dataframe thead th {\n",
       "        text-align: right;\n",
       "    }\n",
       "</style>\n",
       "<table border=\"1\" class=\"dataframe\">\n",
       "  <thead>\n",
       "    <tr style=\"text-align: right;\">\n",
       "      <th></th>\n",
       "      <th>Unnamed: 0</th>\n",
       "      <th>Date</th>\n",
       "      <th>Open</th>\n",
       "      <th>High</th>\n",
       "      <th>Low</th>\n",
       "      <th>Close</th>\n",
       "      <th>Adj Close</th>\n",
       "      <th>Volume</th>\n",
       "    </tr>\n",
       "  </thead>\n",
       "  <tbody>\n",
       "    <tr>\n",
       "      <th>1932</th>\n",
       "      <td>1932</td>\n",
       "      <td>2020-01-01</td>\n",
       "      <td>7194.89209</td>\n",
       "      <td>7254.330566</td>\n",
       "      <td>7174.944336</td>\n",
       "      <td>7200.174316</td>\n",
       "      <td>7200.174316</td>\n",
       "      <td>18565664997</td>\n",
       "    </tr>\n",
       "    <tr>\n",
       "      <th>1933</th>\n",
       "      <td>1933</td>\n",
       "      <td>2020-01-02</td>\n",
       "      <td>7202.55127</td>\n",
       "      <td>7212.155273</td>\n",
       "      <td>6935.270020</td>\n",
       "      <td>6985.470215</td>\n",
       "      <td>6985.470215</td>\n",
       "      <td>20802083465</td>\n",
       "    </tr>\n",
       "  </tbody>\n",
       "</table>\n",
       "</div>"
      ],
      "text/plain": [
       "      Unnamed: 0        Date        Open         High          Low  \\\n",
       "1932        1932  2020-01-01  7194.89209  7254.330566  7174.944336   \n",
       "1933        1933  2020-01-02  7202.55127  7212.155273  6935.270020   \n",
       "\n",
       "            Close    Adj Close       Volume  \n",
       "1932  7200.174316  7200.174316  18565664997  \n",
       "1933  6985.470215  6985.470215  20802083465  "
      ]
     },
     "execution_count": 57,
     "metadata": {},
     "output_type": "execute_result"
    }
   ],
   "source": [
    "# Filter Rows by Dates in pandas DataFrame \n",
    "df2 = df[(df['Date'] >= \"2020-01-01\") & (df['Date'] < \"2021-11-02\")]\n",
    "df3 = df[(df['Date'] >= \"2019-12-31\") & (df['Date'] < \"2021-11-02\")]\n",
    "df2.head(2)\n",
    "#print(df2.tail(1))"
   ]
  },
  {
   "cell_type": "code",
   "execution_count": 58,
   "id": "10669022-897d-43c5-9430-45d63c2adaf9",
   "metadata": {},
   "outputs": [
    {
     "data": {
      "text/html": [
       "<div>\n",
       "<style scoped>\n",
       "    .dataframe tbody tr th:only-of-type {\n",
       "        vertical-align: middle;\n",
       "    }\n",
       "\n",
       "    .dataframe tbody tr th {\n",
       "        vertical-align: top;\n",
       "    }\n",
       "\n",
       "    .dataframe thead th {\n",
       "        text-align: right;\n",
       "    }\n",
       "</style>\n",
       "<table border=\"1\" class=\"dataframe\">\n",
       "  <thead>\n",
       "    <tr style=\"text-align: right;\">\n",
       "      <th></th>\n",
       "      <th>Unnamed: 0</th>\n",
       "      <th>Date</th>\n",
       "      <th>Open</th>\n",
       "      <th>High</th>\n",
       "      <th>Low</th>\n",
       "      <th>Close</th>\n",
       "      <th>Adj Close</th>\n",
       "      <th>Volume</th>\n",
       "    </tr>\n",
       "  </thead>\n",
       "  <tbody>\n",
       "    <tr>\n",
       "      <th>1931</th>\n",
       "      <td>1931</td>\n",
       "      <td>2019-12-31</td>\n",
       "      <td>7294.438965</td>\n",
       "      <td>7335.290039</td>\n",
       "      <td>7169.777832</td>\n",
       "      <td>7193.599121</td>\n",
       "      <td>7193.599121</td>\n",
       "      <td>21167946112</td>\n",
       "    </tr>\n",
       "    <tr>\n",
       "      <th>1932</th>\n",
       "      <td>1932</td>\n",
       "      <td>2020-01-01</td>\n",
       "      <td>7194.892090</td>\n",
       "      <td>7254.330566</td>\n",
       "      <td>7174.944336</td>\n",
       "      <td>7200.174316</td>\n",
       "      <td>7200.174316</td>\n",
       "      <td>18565664997</td>\n",
       "    </tr>\n",
       "  </tbody>\n",
       "</table>\n",
       "</div>"
      ],
      "text/plain": [
       "      Unnamed: 0        Date         Open         High          Low  \\\n",
       "1931        1931  2019-12-31  7294.438965  7335.290039  7169.777832   \n",
       "1932        1932  2020-01-01  7194.892090  7254.330566  7174.944336   \n",
       "\n",
       "            Close    Adj Close       Volume  \n",
       "1931  7193.599121  7193.599121  21167946112  \n",
       "1932  7200.174316  7200.174316  18565664997  "
      ]
     },
     "execution_count": 58,
     "metadata": {},
     "output_type": "execute_result"
    }
   ],
   "source": [
    "df3.head(2)"
   ]
  },
  {
   "cell_type": "markdown",
   "id": "23b9d945-b0b2-4cf0-b734-73c3ae228215",
   "metadata": {},
   "source": [
    "Now we have two data frames:\n",
    "* df2: with the dates of interest\n",
    "* df3: with one prior extra day form the dates of interes\n",
    "\n",
    "We will drop the last day of df3 and compare the *opening* of df3 (prior day) with the *opening* of df2 (new day). The comparation will be the difference of new_day minus prior_day. If the difference is positive that means that there was an increment in the value of bitcoin, otherwise ther was a decrease. \n",
    "\n",
    "We will make an indicator *'up_down'* that will take a value of 1 if there was an increase and 0 otherwise."
   ]
  },
  {
   "cell_type": "code",
   "execution_count": 59,
   "id": "c488c593-c88c-43e2-9adb-82c54ec612b3",
   "metadata": {},
   "outputs": [
    {
     "data": {
      "text/plain": [
       "True"
      ]
     },
     "execution_count": 59,
     "metadata": {},
     "output_type": "execute_result"
    }
   ],
   "source": [
    "df_open_prior=df3['Open']\n",
    "df_open_new_day=df2['Open']\n",
    "\n",
    "#convert to list to make manipulations easier\n",
    "prior=df_open_prior.tolist()\n",
    "new_day=df_open_new_day.tolist()\n",
    "\n",
    "#drop the last day of prior to make lists of same size\n",
    "prior = prior[:-1]\n",
    "\n",
    "len(new_day) == len(prior)"
   ]
  },
  {
   "cell_type": "markdown",
   "id": "fd7de1a2-efeb-41c1-a999-358dba2d10ea",
   "metadata": {},
   "source": [
    "Now we compare and generate the indicator 'up_down'"
   ]
  },
  {
   "cell_type": "code",
   "execution_count": 60,
   "id": "74aa7b24-716c-484c-ac55-882f6c98fd09",
   "metadata": {},
   "outputs": [],
   "source": [
    "#Now we compare and generate the index\n",
    "up_down = []\n",
    "for i in range(len(prior)):\n",
    "    delta = new_day[i]-prior[i]\n",
    "    if delta < 0:\n",
    "        up_down.append(0)\n",
    "    else:\n",
    "        up_down.append(1)"
   ]
  },
  {
   "cell_type": "markdown",
   "id": "3c3e2201-111a-4419-9f8c-ee4316a011fc",
   "metadata": {},
   "source": [
    "Now we will add this label to the data frame of the days of interest (df2)."
   ]
  },
  {
   "cell_type": "code",
   "execution_count": 61,
   "id": "72168a39-53e5-42d9-a948-741c19e53812",
   "metadata": {},
   "outputs": [
    {
     "data": {
      "text/html": [
       "<div>\n",
       "<style scoped>\n",
       "    .dataframe tbody tr th:only-of-type {\n",
       "        vertical-align: middle;\n",
       "    }\n",
       "\n",
       "    .dataframe tbody tr th {\n",
       "        vertical-align: top;\n",
       "    }\n",
       "\n",
       "    .dataframe thead th {\n",
       "        text-align: right;\n",
       "    }\n",
       "</style>\n",
       "<table border=\"1\" class=\"dataframe\">\n",
       "  <thead>\n",
       "    <tr style=\"text-align: right;\">\n",
       "      <th></th>\n",
       "      <th>Unnamed: 0</th>\n",
       "      <th>Date</th>\n",
       "      <th>Open</th>\n",
       "      <th>High</th>\n",
       "      <th>Low</th>\n",
       "      <th>Close</th>\n",
       "      <th>Adj Close</th>\n",
       "      <th>Volume</th>\n",
       "      <th>up_down</th>\n",
       "    </tr>\n",
       "  </thead>\n",
       "  <tbody>\n",
       "    <tr>\n",
       "      <th>1932</th>\n",
       "      <td>1932</td>\n",
       "      <td>2020-01-01</td>\n",
       "      <td>7194.892090</td>\n",
       "      <td>7254.330566</td>\n",
       "      <td>7174.944336</td>\n",
       "      <td>7200.174316</td>\n",
       "      <td>7200.174316</td>\n",
       "      <td>18565664997</td>\n",
       "      <td>0</td>\n",
       "    </tr>\n",
       "    <tr>\n",
       "      <th>1933</th>\n",
       "      <td>1933</td>\n",
       "      <td>2020-01-02</td>\n",
       "      <td>7202.551270</td>\n",
       "      <td>7212.155273</td>\n",
       "      <td>6935.270020</td>\n",
       "      <td>6985.470215</td>\n",
       "      <td>6985.470215</td>\n",
       "      <td>20802083465</td>\n",
       "      <td>1</td>\n",
       "    </tr>\n",
       "    <tr>\n",
       "      <th>1934</th>\n",
       "      <td>1934</td>\n",
       "      <td>2020-01-03</td>\n",
       "      <td>6984.428711</td>\n",
       "      <td>7413.715332</td>\n",
       "      <td>6914.996094</td>\n",
       "      <td>7344.884277</td>\n",
       "      <td>7344.884277</td>\n",
       "      <td>28111481032</td>\n",
       "      <td>0</td>\n",
       "    </tr>\n",
       "    <tr>\n",
       "      <th>1935</th>\n",
       "      <td>1935</td>\n",
       "      <td>2020-01-04</td>\n",
       "      <td>7345.375488</td>\n",
       "      <td>7427.385742</td>\n",
       "      <td>7309.514160</td>\n",
       "      <td>7410.656738</td>\n",
       "      <td>7410.656738</td>\n",
       "      <td>18444271275</td>\n",
       "      <td>1</td>\n",
       "    </tr>\n",
       "    <tr>\n",
       "      <th>1936</th>\n",
       "      <td>1936</td>\n",
       "      <td>2020-01-05</td>\n",
       "      <td>7410.451660</td>\n",
       "      <td>7544.497070</td>\n",
       "      <td>7400.535645</td>\n",
       "      <td>7411.317383</td>\n",
       "      <td>7411.317383</td>\n",
       "      <td>19725074095</td>\n",
       "      <td>1</td>\n",
       "    </tr>\n",
       "  </tbody>\n",
       "</table>\n",
       "</div>"
      ],
      "text/plain": [
       "      Unnamed: 0        Date         Open         High          Low  \\\n",
       "1932        1932  2020-01-01  7194.892090  7254.330566  7174.944336   \n",
       "1933        1933  2020-01-02  7202.551270  7212.155273  6935.270020   \n",
       "1934        1934  2020-01-03  6984.428711  7413.715332  6914.996094   \n",
       "1935        1935  2020-01-04  7345.375488  7427.385742  7309.514160   \n",
       "1936        1936  2020-01-05  7410.451660  7544.497070  7400.535645   \n",
       "\n",
       "            Close    Adj Close       Volume  up_down  \n",
       "1932  7200.174316  7200.174316  18565664997        0  \n",
       "1933  6985.470215  6985.470215  20802083465        1  \n",
       "1934  7344.884277  7344.884277  28111481032        0  \n",
       "1935  7410.656738  7410.656738  18444271275        1  \n",
       "1936  7411.317383  7411.317383  19725074095        1  "
      ]
     },
     "execution_count": 61,
     "metadata": {},
     "output_type": "execute_result"
    }
   ],
   "source": [
    "import warnings\n",
    "warnings.filterwarnings('ignore')\n",
    "\n",
    "df2['up_down'] = up_down\n",
    "df2.head()"
   ]
  },
  {
   "cell_type": "markdown",
   "id": "273af2ec-fb39-4c12-b1f3-14293a410502",
   "metadata": {},
   "source": [
    "Now we will save this data."
   ]
  },
  {
   "cell_type": "code",
   "execution_count": 66,
   "id": "29d88705-81a1-473d-86f3-dbb14b140fc1",
   "metadata": {},
   "outputs": [],
   "source": [
    "df2.to_csv('model_data.csv')"
   ]
  },
  {
   "cell_type": "markdown",
   "id": "cb05d673-aa72-4363-9c71-46d8d927f266",
   "metadata": {},
   "source": [
    "# Adding scores and bitcoin price"
   ]
  },
  {
   "cell_type": "code",
   "execution_count": 138,
   "id": "57e55dbc-e904-4354-8df6-5a1879c7a3b7",
   "metadata": {},
   "outputs": [],
   "source": [
    "bitcoin= pd.read_csv('./data/model_data.csv')"
   ]
  },
  {
   "cell_type": "code",
   "execution_count": 139,
   "id": "15cfdc23-50b0-42fc-a31f-7062fb083c7c",
   "metadata": {},
   "outputs": [],
   "source": [
    "bitcoin = bitcoin.iloc[1:-1 , :]"
   ]
  },
  {
   "cell_type": "code",
   "execution_count": 140,
   "id": "a236d071-859d-4f29-84a0-120fb9367c25",
   "metadata": {},
   "outputs": [
    {
     "data": {
      "text/html": [
       "<div>\n",
       "<style scoped>\n",
       "    .dataframe tbody tr th:only-of-type {\n",
       "        vertical-align: middle;\n",
       "    }\n",
       "\n",
       "    .dataframe tbody tr th {\n",
       "        vertical-align: top;\n",
       "    }\n",
       "\n",
       "    .dataframe thead th {\n",
       "        text-align: right;\n",
       "    }\n",
       "</style>\n",
       "<table border=\"1\" class=\"dataframe\">\n",
       "  <thead>\n",
       "    <tr style=\"text-align: right;\">\n",
       "      <th></th>\n",
       "      <th>Unnamed: 0</th>\n",
       "      <th>Date</th>\n",
       "      <th>Open</th>\n",
       "      <th>High</th>\n",
       "      <th>Low</th>\n",
       "      <th>Close</th>\n",
       "      <th>Adj Close</th>\n",
       "      <th>Volume</th>\n",
       "      <th>up_down</th>\n",
       "    </tr>\n",
       "  </thead>\n",
       "  <tbody>\n",
       "    <tr>\n",
       "      <th>1</th>\n",
       "      <td>1933</td>\n",
       "      <td>2020-01-02</td>\n",
       "      <td>7202.551270</td>\n",
       "      <td>7212.155273</td>\n",
       "      <td>6935.270020</td>\n",
       "      <td>6985.470215</td>\n",
       "      <td>6985.470215</td>\n",
       "      <td>20802083465</td>\n",
       "      <td>1</td>\n",
       "    </tr>\n",
       "    <tr>\n",
       "      <th>2</th>\n",
       "      <td>1934</td>\n",
       "      <td>2020-01-03</td>\n",
       "      <td>6984.428711</td>\n",
       "      <td>7413.715332</td>\n",
       "      <td>6914.996094</td>\n",
       "      <td>7344.884277</td>\n",
       "      <td>7344.884277</td>\n",
       "      <td>28111481032</td>\n",
       "      <td>0</td>\n",
       "    </tr>\n",
       "    <tr>\n",
       "      <th>3</th>\n",
       "      <td>1935</td>\n",
       "      <td>2020-01-04</td>\n",
       "      <td>7345.375488</td>\n",
       "      <td>7427.385742</td>\n",
       "      <td>7309.514160</td>\n",
       "      <td>7410.656738</td>\n",
       "      <td>7410.656738</td>\n",
       "      <td>18444271275</td>\n",
       "      <td>1</td>\n",
       "    </tr>\n",
       "    <tr>\n",
       "      <th>4</th>\n",
       "      <td>1936</td>\n",
       "      <td>2020-01-05</td>\n",
       "      <td>7410.451660</td>\n",
       "      <td>7544.497070</td>\n",
       "      <td>7400.535645</td>\n",
       "      <td>7411.317383</td>\n",
       "      <td>7411.317383</td>\n",
       "      <td>19725074095</td>\n",
       "      <td>1</td>\n",
       "    </tr>\n",
       "    <tr>\n",
       "      <th>5</th>\n",
       "      <td>1937</td>\n",
       "      <td>2020-01-06</td>\n",
       "      <td>7410.452148</td>\n",
       "      <td>7781.867188</td>\n",
       "      <td>7409.292969</td>\n",
       "      <td>7769.219238</td>\n",
       "      <td>7769.219238</td>\n",
       "      <td>23276261598</td>\n",
       "      <td>1</td>\n",
       "    </tr>\n",
       "    <tr>\n",
       "      <th>...</th>\n",
       "      <td>...</td>\n",
       "      <td>...</td>\n",
       "      <td>...</td>\n",
       "      <td>...</td>\n",
       "      <td>...</td>\n",
       "      <td>...</td>\n",
       "      <td>...</td>\n",
       "      <td>...</td>\n",
       "      <td>...</td>\n",
       "    </tr>\n",
       "    <tr>\n",
       "      <th>665</th>\n",
       "      <td>2597</td>\n",
       "      <td>2021-10-27</td>\n",
       "      <td>60352.000000</td>\n",
       "      <td>61435.183594</td>\n",
       "      <td>58208.187500</td>\n",
       "      <td>58482.386719</td>\n",
       "      <td>58482.386719</td>\n",
       "      <td>43657076893</td>\n",
       "      <td>0</td>\n",
       "    </tr>\n",
       "    <tr>\n",
       "      <th>666</th>\n",
       "      <td>2598</td>\n",
       "      <td>2021-10-28</td>\n",
       "      <td>58470.730469</td>\n",
       "      <td>62128.632812</td>\n",
       "      <td>58206.917969</td>\n",
       "      <td>60622.136719</td>\n",
       "      <td>60622.136719</td>\n",
       "      <td>45257083247</td>\n",
       "      <td>0</td>\n",
       "    </tr>\n",
       "    <tr>\n",
       "      <th>667</th>\n",
       "      <td>2599</td>\n",
       "      <td>2021-10-29</td>\n",
       "      <td>60624.871094</td>\n",
       "      <td>62927.609375</td>\n",
       "      <td>60329.964844</td>\n",
       "      <td>62227.964844</td>\n",
       "      <td>62227.964844</td>\n",
       "      <td>36856881767</td>\n",
       "      <td>1</td>\n",
       "    </tr>\n",
       "    <tr>\n",
       "      <th>668</th>\n",
       "      <td>2600</td>\n",
       "      <td>2021-10-30</td>\n",
       "      <td>62239.363281</td>\n",
       "      <td>62330.144531</td>\n",
       "      <td>60918.386719</td>\n",
       "      <td>61888.832031</td>\n",
       "      <td>61888.832031</td>\n",
       "      <td>32157938616</td>\n",
       "      <td>1</td>\n",
       "    </tr>\n",
       "    <tr>\n",
       "      <th>669</th>\n",
       "      <td>2601</td>\n",
       "      <td>2021-10-31</td>\n",
       "      <td>61850.488281</td>\n",
       "      <td>62406.171875</td>\n",
       "      <td>60074.328125</td>\n",
       "      <td>61318.957031</td>\n",
       "      <td>61318.957031</td>\n",
       "      <td>32241199927</td>\n",
       "      <td>0</td>\n",
       "    </tr>\n",
       "  </tbody>\n",
       "</table>\n",
       "<p>669 rows × 9 columns</p>\n",
       "</div>"
      ],
      "text/plain": [
       "     Unnamed: 0        Date          Open          High           Low  \\\n",
       "1          1933  2020-01-02   7202.551270   7212.155273   6935.270020   \n",
       "2          1934  2020-01-03   6984.428711   7413.715332   6914.996094   \n",
       "3          1935  2020-01-04   7345.375488   7427.385742   7309.514160   \n",
       "4          1936  2020-01-05   7410.451660   7544.497070   7400.535645   \n",
       "5          1937  2020-01-06   7410.452148   7781.867188   7409.292969   \n",
       "..          ...         ...           ...           ...           ...   \n",
       "665        2597  2021-10-27  60352.000000  61435.183594  58208.187500   \n",
       "666        2598  2021-10-28  58470.730469  62128.632812  58206.917969   \n",
       "667        2599  2021-10-29  60624.871094  62927.609375  60329.964844   \n",
       "668        2600  2021-10-30  62239.363281  62330.144531  60918.386719   \n",
       "669        2601  2021-10-31  61850.488281  62406.171875  60074.328125   \n",
       "\n",
       "            Close     Adj Close       Volume  up_down  \n",
       "1     6985.470215   6985.470215  20802083465        1  \n",
       "2     7344.884277   7344.884277  28111481032        0  \n",
       "3     7410.656738   7410.656738  18444271275        1  \n",
       "4     7411.317383   7411.317383  19725074095        1  \n",
       "5     7769.219238   7769.219238  23276261598        1  \n",
       "..            ...           ...          ...      ...  \n",
       "665  58482.386719  58482.386719  43657076893        0  \n",
       "666  60622.136719  60622.136719  45257083247        0  \n",
       "667  62227.964844  62227.964844  36856881767        1  \n",
       "668  61888.832031  61888.832031  32157938616        1  \n",
       "669  61318.957031  61318.957031  32241199927        0  \n",
       "\n",
       "[669 rows x 9 columns]"
      ]
     },
     "execution_count": 140,
     "metadata": {},
     "output_type": "execute_result"
    }
   ],
   "source": [
    "bitcoin"
   ]
  },
  {
   "cell_type": "code",
   "execution_count": 142,
   "id": "014e6dc8-db4d-4777-8ea9-887824da4e42",
   "metadata": {},
   "outputs": [
    {
     "data": {
      "text/plain": [
       "667"
      ]
     },
     "execution_count": 142,
     "metadata": {},
     "output_type": "execute_result"
    }
   ],
   "source": [
    "len(Mean_scores)"
   ]
  },
  {
   "cell_type": "markdown",
   "id": "3dd0b8ba-4f71-443f-b91a-23c3e07b2bc0",
   "metadata": {},
   "source": [
    "It seems that we don't have the same number of data on both sides. We need to find which dates are missing"
   ]
  },
  {
   "cell_type": "code",
   "execution_count": 145,
   "id": "f2f02c73-8b06-4cfd-9914-19ceb3ce6143",
   "metadata": {},
   "outputs": [
    {
     "data": {
      "text/plain": [
       "'2021-01-19'"
      ]
     },
     "execution_count": 145,
     "metadata": {},
     "output_type": "execute_result"
    }
   ],
   "source": [
    "bitcoin.iloc[383][1]"
   ]
  },
  {
   "cell_type": "code",
   "execution_count": 144,
   "id": "a87b4deb-baa9-4326-ae7b-4a30b7bdd6cb",
   "metadata": {},
   "outputs": [
    {
     "data": {
      "text/plain": [
       "'2021-01-22'"
      ]
     },
     "execution_count": 144,
     "metadata": {},
     "output_type": "execute_result"
    }
   ],
   "source": [
    "x[384]"
   ]
  },
  {
   "cell_type": "markdown",
   "id": "5bc9a1f6-abe4-4318-b25b-17c84aa826ae",
   "metadata": {},
   "source": [
    "It appears that we don't have tweets from 2021-01-20 to 2021-01-20 so we are going to drop that bitcoin data from those days. "
   ]
  },
  {
   "cell_type": "code",
   "execution_count": 146,
   "id": "0d654812-42f6-4958-9302-4af745e202d0",
   "metadata": {},
   "outputs": [],
   "source": [
    "bitcoin=bitcoin.drop(385)\n",
    "bitcoin=bitcoin.drop(386)"
   ]
  },
  {
   "cell_type": "code",
   "execution_count": 147,
   "id": "14f88b0d-a30b-4578-99f2-c4e5ae71565a",
   "metadata": {},
   "outputs": [
    {
     "data": {
      "text/plain": [
       "'2021-01-22'"
      ]
     },
     "execution_count": 147,
     "metadata": {},
     "output_type": "execute_result"
    }
   ],
   "source": [
    "bitcoin.iloc[384][1]"
   ]
  },
  {
   "cell_type": "code",
   "execution_count": 148,
   "id": "6bccf001-a728-410c-96ff-0a7cc93667a9",
   "metadata": {},
   "outputs": [
    {
     "data": {
      "text/plain": [
       "'2021-01-22'"
      ]
     },
     "execution_count": 148,
     "metadata": {},
     "output_type": "execute_result"
    }
   ],
   "source": [
    "x[384]"
   ]
  },
  {
   "cell_type": "markdown",
   "id": "32c89e86-7cd0-47c2-ba64-cd9de28a8f14",
   "metadata": {},
   "source": [
    "We can now join the data scores from the tweets to the bitcoin price. "
   ]
  },
  {
   "cell_type": "code",
   "execution_count": 149,
   "id": "576a622d-61fe-4eaa-b63a-aa3a296442bd",
   "metadata": {},
   "outputs": [
    {
     "data": {
      "text/html": [
       "<div>\n",
       "<style scoped>\n",
       "    .dataframe tbody tr th:only-of-type {\n",
       "        vertical-align: middle;\n",
       "    }\n",
       "\n",
       "    .dataframe tbody tr th {\n",
       "        vertical-align: top;\n",
       "    }\n",
       "\n",
       "    .dataframe thead th {\n",
       "        text-align: right;\n",
       "    }\n",
       "</style>\n",
       "<table border=\"1\" class=\"dataframe\">\n",
       "  <thead>\n",
       "    <tr style=\"text-align: right;\">\n",
       "      <th></th>\n",
       "      <th>index</th>\n",
       "      <th>Unnamed: 0</th>\n",
       "      <th>Date</th>\n",
       "      <th>Open</th>\n",
       "      <th>High</th>\n",
       "      <th>Low</th>\n",
       "      <th>Close</th>\n",
       "      <th>Adj Close</th>\n",
       "      <th>Volume</th>\n",
       "      <th>up_down</th>\n",
       "      <th>Mean Score</th>\n",
       "      <th>Mean Magnitude</th>\n",
       "    </tr>\n",
       "  </thead>\n",
       "  <tbody>\n",
       "    <tr>\n",
       "      <th>0</th>\n",
       "      <td>1</td>\n",
       "      <td>1933</td>\n",
       "      <td>2020-01-02</td>\n",
       "      <td>7202.551270</td>\n",
       "      <td>7212.155273</td>\n",
       "      <td>6935.270020</td>\n",
       "      <td>6985.470215</td>\n",
       "      <td>6985.470215</td>\n",
       "      <td>20802083465</td>\n",
       "      <td>1</td>\n",
       "      <td>-7.450581e-10</td>\n",
       "      <td>0.77</td>\n",
       "    </tr>\n",
       "    <tr>\n",
       "      <th>1</th>\n",
       "      <td>2</td>\n",
       "      <td>1934</td>\n",
       "      <td>2020-01-03</td>\n",
       "      <td>6984.428711</td>\n",
       "      <td>7413.715332</td>\n",
       "      <td>6914.996094</td>\n",
       "      <td>7344.884277</td>\n",
       "      <td>7344.884277</td>\n",
       "      <td>28111481032</td>\n",
       "      <td>0</td>\n",
       "      <td>2.200000e-01</td>\n",
       "      <td>1.57</td>\n",
       "    </tr>\n",
       "    <tr>\n",
       "      <th>2</th>\n",
       "      <td>3</td>\n",
       "      <td>1935</td>\n",
       "      <td>2020-01-04</td>\n",
       "      <td>7345.375488</td>\n",
       "      <td>7427.385742</td>\n",
       "      <td>7309.514160</td>\n",
       "      <td>7410.656738</td>\n",
       "      <td>7410.656738</td>\n",
       "      <td>18444271275</td>\n",
       "      <td>1</td>\n",
       "      <td>1.000000e-01</td>\n",
       "      <td>1.12</td>\n",
       "    </tr>\n",
       "    <tr>\n",
       "      <th>3</th>\n",
       "      <td>4</td>\n",
       "      <td>1936</td>\n",
       "      <td>2020-01-05</td>\n",
       "      <td>7410.451660</td>\n",
       "      <td>7544.497070</td>\n",
       "      <td>7400.535645</td>\n",
       "      <td>7411.317383</td>\n",
       "      <td>7411.317383</td>\n",
       "      <td>19725074095</td>\n",
       "      <td>1</td>\n",
       "      <td>2.980232e-09</td>\n",
       "      <td>0.87</td>\n",
       "    </tr>\n",
       "    <tr>\n",
       "      <th>4</th>\n",
       "      <td>5</td>\n",
       "      <td>1937</td>\n",
       "      <td>2020-01-06</td>\n",
       "      <td>7410.452148</td>\n",
       "      <td>7781.867188</td>\n",
       "      <td>7409.292969</td>\n",
       "      <td>7769.219238</td>\n",
       "      <td>7769.219238</td>\n",
       "      <td>23276261598</td>\n",
       "      <td>1</td>\n",
       "      <td>-9.999999e-03</td>\n",
       "      <td>0.56</td>\n",
       "    </tr>\n",
       "    <tr>\n",
       "      <th>...</th>\n",
       "      <td>...</td>\n",
       "      <td>...</td>\n",
       "      <td>...</td>\n",
       "      <td>...</td>\n",
       "      <td>...</td>\n",
       "      <td>...</td>\n",
       "      <td>...</td>\n",
       "      <td>...</td>\n",
       "      <td>...</td>\n",
       "      <td>...</td>\n",
       "      <td>...</td>\n",
       "      <td>...</td>\n",
       "    </tr>\n",
       "    <tr>\n",
       "      <th>662</th>\n",
       "      <td>665</td>\n",
       "      <td>2597</td>\n",
       "      <td>2021-10-27</td>\n",
       "      <td>60352.000000</td>\n",
       "      <td>61435.183594</td>\n",
       "      <td>58208.187500</td>\n",
       "      <td>58482.386719</td>\n",
       "      <td>58482.386719</td>\n",
       "      <td>43657076893</td>\n",
       "      <td>0</td>\n",
       "      <td>1.300000e-01</td>\n",
       "      <td>0.71</td>\n",
       "    </tr>\n",
       "    <tr>\n",
       "      <th>663</th>\n",
       "      <td>666</td>\n",
       "      <td>2598</td>\n",
       "      <td>2021-10-28</td>\n",
       "      <td>58470.730469</td>\n",
       "      <td>62128.632812</td>\n",
       "      <td>58206.917969</td>\n",
       "      <td>60622.136719</td>\n",
       "      <td>60622.136719</td>\n",
       "      <td>45257083247</td>\n",
       "      <td>0</td>\n",
       "      <td>-5.000000e-02</td>\n",
       "      <td>0.71</td>\n",
       "    </tr>\n",
       "    <tr>\n",
       "      <th>664</th>\n",
       "      <td>667</td>\n",
       "      <td>2599</td>\n",
       "      <td>2021-10-29</td>\n",
       "      <td>60624.871094</td>\n",
       "      <td>62927.609375</td>\n",
       "      <td>60329.964844</td>\n",
       "      <td>62227.964844</td>\n",
       "      <td>62227.964844</td>\n",
       "      <td>36856881767</td>\n",
       "      <td>1</td>\n",
       "      <td>1.300000e-01</td>\n",
       "      <td>0.54</td>\n",
       "    </tr>\n",
       "    <tr>\n",
       "      <th>665</th>\n",
       "      <td>668</td>\n",
       "      <td>2600</td>\n",
       "      <td>2021-10-30</td>\n",
       "      <td>62239.363281</td>\n",
       "      <td>62330.144531</td>\n",
       "      <td>60918.386719</td>\n",
       "      <td>61888.832031</td>\n",
       "      <td>61888.832031</td>\n",
       "      <td>32157938616</td>\n",
       "      <td>1</td>\n",
       "      <td>-6.000000e-02</td>\n",
       "      <td>0.92</td>\n",
       "    </tr>\n",
       "    <tr>\n",
       "      <th>666</th>\n",
       "      <td>669</td>\n",
       "      <td>2601</td>\n",
       "      <td>2021-10-31</td>\n",
       "      <td>61850.488281</td>\n",
       "      <td>62406.171875</td>\n",
       "      <td>60074.328125</td>\n",
       "      <td>61318.957031</td>\n",
       "      <td>61318.957031</td>\n",
       "      <td>32241199927</td>\n",
       "      <td>0</td>\n",
       "      <td>1.400000e-01</td>\n",
       "      <td>0.63</td>\n",
       "    </tr>\n",
       "  </tbody>\n",
       "</table>\n",
       "<p>667 rows × 12 columns</p>\n",
       "</div>"
      ],
      "text/plain": [
       "     index  Unnamed: 0        Date          Open          High           Low  \\\n",
       "0        1        1933  2020-01-02   7202.551270   7212.155273   6935.270020   \n",
       "1        2        1934  2020-01-03   6984.428711   7413.715332   6914.996094   \n",
       "2        3        1935  2020-01-04   7345.375488   7427.385742   7309.514160   \n",
       "3        4        1936  2020-01-05   7410.451660   7544.497070   7400.535645   \n",
       "4        5        1937  2020-01-06   7410.452148   7781.867188   7409.292969   \n",
       "..     ...         ...         ...           ...           ...           ...   \n",
       "662    665        2597  2021-10-27  60352.000000  61435.183594  58208.187500   \n",
       "663    666        2598  2021-10-28  58470.730469  62128.632812  58206.917969   \n",
       "664    667        2599  2021-10-29  60624.871094  62927.609375  60329.964844   \n",
       "665    668        2600  2021-10-30  62239.363281  62330.144531  60918.386719   \n",
       "666    669        2601  2021-10-31  61850.488281  62406.171875  60074.328125   \n",
       "\n",
       "            Close     Adj Close       Volume  up_down    Mean Score  \\\n",
       "0     6985.470215   6985.470215  20802083465        1 -7.450581e-10   \n",
       "1     7344.884277   7344.884277  28111481032        0  2.200000e-01   \n",
       "2     7410.656738   7410.656738  18444271275        1  1.000000e-01   \n",
       "3     7411.317383   7411.317383  19725074095        1  2.980232e-09   \n",
       "4     7769.219238   7769.219238  23276261598        1 -9.999999e-03   \n",
       "..            ...           ...          ...      ...           ...   \n",
       "662  58482.386719  58482.386719  43657076893        0  1.300000e-01   \n",
       "663  60622.136719  60622.136719  45257083247        0 -5.000000e-02   \n",
       "664  62227.964844  62227.964844  36856881767        1  1.300000e-01   \n",
       "665  61888.832031  61888.832031  32157938616        1 -6.000000e-02   \n",
       "666  61318.957031  61318.957031  32241199927        0  1.400000e-01   \n",
       "\n",
       "     Mean Magnitude  \n",
       "0              0.77  \n",
       "1              1.57  \n",
       "2              1.12  \n",
       "3              0.87  \n",
       "4              0.56  \n",
       "..              ...  \n",
       "662            0.71  \n",
       "663            0.71  \n",
       "664            0.54  \n",
       "665            0.92  \n",
       "666            0.63  \n",
       "\n",
       "[667 rows x 12 columns]"
      ]
     },
     "execution_count": 149,
     "metadata": {},
     "output_type": "execute_result"
    }
   ],
   "source": [
    "bitcoin.reset_index(inplace=True)\n",
    "bitcoin['Mean Score']=mean_day_score\n",
    "bitcoin['Mean Magnitude']=mean_day_magnitude\n",
    "bitcoin"
   ]
  },
  {
   "cell_type": "code",
   "execution_count": 150,
   "id": "a46e776d-fd2d-48c0-8f71-5e122765e54e",
   "metadata": {
    "tags": []
   },
   "outputs": [
    {
     "data": {
      "text/html": [
       "<div>\n",
       "<style scoped>\n",
       "    .dataframe tbody tr th:only-of-type {\n",
       "        vertical-align: middle;\n",
       "    }\n",
       "\n",
       "    .dataframe tbody tr th {\n",
       "        vertical-align: top;\n",
       "    }\n",
       "\n",
       "    .dataframe thead th {\n",
       "        text-align: right;\n",
       "    }\n",
       "</style>\n",
       "<table border=\"1\" class=\"dataframe\">\n",
       "  <thead>\n",
       "    <tr style=\"text-align: right;\">\n",
       "      <th></th>\n",
       "      <th>Date</th>\n",
       "      <th>Open</th>\n",
       "      <th>High</th>\n",
       "      <th>Low</th>\n",
       "      <th>Close</th>\n",
       "      <th>Adj Close</th>\n",
       "      <th>Volume</th>\n",
       "      <th>up_down</th>\n",
       "      <th>Mean Score</th>\n",
       "      <th>Mean Magnitude</th>\n",
       "    </tr>\n",
       "  </thead>\n",
       "  <tbody>\n",
       "    <tr>\n",
       "      <th>0</th>\n",
       "      <td>2020-01-02</td>\n",
       "      <td>7202.551270</td>\n",
       "      <td>7212.155273</td>\n",
       "      <td>6935.270020</td>\n",
       "      <td>6985.470215</td>\n",
       "      <td>6985.470215</td>\n",
       "      <td>20802083465</td>\n",
       "      <td>1</td>\n",
       "      <td>-7.450581e-10</td>\n",
       "      <td>0.77</td>\n",
       "    </tr>\n",
       "    <tr>\n",
       "      <th>1</th>\n",
       "      <td>2020-01-03</td>\n",
       "      <td>6984.428711</td>\n",
       "      <td>7413.715332</td>\n",
       "      <td>6914.996094</td>\n",
       "      <td>7344.884277</td>\n",
       "      <td>7344.884277</td>\n",
       "      <td>28111481032</td>\n",
       "      <td>0</td>\n",
       "      <td>2.200000e-01</td>\n",
       "      <td>1.57</td>\n",
       "    </tr>\n",
       "    <tr>\n",
       "      <th>2</th>\n",
       "      <td>2020-01-04</td>\n",
       "      <td>7345.375488</td>\n",
       "      <td>7427.385742</td>\n",
       "      <td>7309.514160</td>\n",
       "      <td>7410.656738</td>\n",
       "      <td>7410.656738</td>\n",
       "      <td>18444271275</td>\n",
       "      <td>1</td>\n",
       "      <td>1.000000e-01</td>\n",
       "      <td>1.12</td>\n",
       "    </tr>\n",
       "    <tr>\n",
       "      <th>3</th>\n",
       "      <td>2020-01-05</td>\n",
       "      <td>7410.451660</td>\n",
       "      <td>7544.497070</td>\n",
       "      <td>7400.535645</td>\n",
       "      <td>7411.317383</td>\n",
       "      <td>7411.317383</td>\n",
       "      <td>19725074095</td>\n",
       "      <td>1</td>\n",
       "      <td>2.980232e-09</td>\n",
       "      <td>0.87</td>\n",
       "    </tr>\n",
       "    <tr>\n",
       "      <th>4</th>\n",
       "      <td>2020-01-06</td>\n",
       "      <td>7410.452148</td>\n",
       "      <td>7781.867188</td>\n",
       "      <td>7409.292969</td>\n",
       "      <td>7769.219238</td>\n",
       "      <td>7769.219238</td>\n",
       "      <td>23276261598</td>\n",
       "      <td>1</td>\n",
       "      <td>-9.999999e-03</td>\n",
       "      <td>0.56</td>\n",
       "    </tr>\n",
       "    <tr>\n",
       "      <th>...</th>\n",
       "      <td>...</td>\n",
       "      <td>...</td>\n",
       "      <td>...</td>\n",
       "      <td>...</td>\n",
       "      <td>...</td>\n",
       "      <td>...</td>\n",
       "      <td>...</td>\n",
       "      <td>...</td>\n",
       "      <td>...</td>\n",
       "      <td>...</td>\n",
       "    </tr>\n",
       "    <tr>\n",
       "      <th>662</th>\n",
       "      <td>2021-10-27</td>\n",
       "      <td>60352.000000</td>\n",
       "      <td>61435.183594</td>\n",
       "      <td>58208.187500</td>\n",
       "      <td>58482.386719</td>\n",
       "      <td>58482.386719</td>\n",
       "      <td>43657076893</td>\n",
       "      <td>0</td>\n",
       "      <td>1.300000e-01</td>\n",
       "      <td>0.71</td>\n",
       "    </tr>\n",
       "    <tr>\n",
       "      <th>663</th>\n",
       "      <td>2021-10-28</td>\n",
       "      <td>58470.730469</td>\n",
       "      <td>62128.632812</td>\n",
       "      <td>58206.917969</td>\n",
       "      <td>60622.136719</td>\n",
       "      <td>60622.136719</td>\n",
       "      <td>45257083247</td>\n",
       "      <td>0</td>\n",
       "      <td>-5.000000e-02</td>\n",
       "      <td>0.71</td>\n",
       "    </tr>\n",
       "    <tr>\n",
       "      <th>664</th>\n",
       "      <td>2021-10-29</td>\n",
       "      <td>60624.871094</td>\n",
       "      <td>62927.609375</td>\n",
       "      <td>60329.964844</td>\n",
       "      <td>62227.964844</td>\n",
       "      <td>62227.964844</td>\n",
       "      <td>36856881767</td>\n",
       "      <td>1</td>\n",
       "      <td>1.300000e-01</td>\n",
       "      <td>0.54</td>\n",
       "    </tr>\n",
       "    <tr>\n",
       "      <th>665</th>\n",
       "      <td>2021-10-30</td>\n",
       "      <td>62239.363281</td>\n",
       "      <td>62330.144531</td>\n",
       "      <td>60918.386719</td>\n",
       "      <td>61888.832031</td>\n",
       "      <td>61888.832031</td>\n",
       "      <td>32157938616</td>\n",
       "      <td>1</td>\n",
       "      <td>-6.000000e-02</td>\n",
       "      <td>0.92</td>\n",
       "    </tr>\n",
       "    <tr>\n",
       "      <th>666</th>\n",
       "      <td>2021-10-31</td>\n",
       "      <td>61850.488281</td>\n",
       "      <td>62406.171875</td>\n",
       "      <td>60074.328125</td>\n",
       "      <td>61318.957031</td>\n",
       "      <td>61318.957031</td>\n",
       "      <td>32241199927</td>\n",
       "      <td>0</td>\n",
       "      <td>1.400000e-01</td>\n",
       "      <td>0.63</td>\n",
       "    </tr>\n",
       "  </tbody>\n",
       "</table>\n",
       "<p>667 rows × 10 columns</p>\n",
       "</div>"
      ],
      "text/plain": [
       "           Date          Open          High           Low         Close  \\\n",
       "0    2020-01-02   7202.551270   7212.155273   6935.270020   6985.470215   \n",
       "1    2020-01-03   6984.428711   7413.715332   6914.996094   7344.884277   \n",
       "2    2020-01-04   7345.375488   7427.385742   7309.514160   7410.656738   \n",
       "3    2020-01-05   7410.451660   7544.497070   7400.535645   7411.317383   \n",
       "4    2020-01-06   7410.452148   7781.867188   7409.292969   7769.219238   \n",
       "..          ...           ...           ...           ...           ...   \n",
       "662  2021-10-27  60352.000000  61435.183594  58208.187500  58482.386719   \n",
       "663  2021-10-28  58470.730469  62128.632812  58206.917969  60622.136719   \n",
       "664  2021-10-29  60624.871094  62927.609375  60329.964844  62227.964844   \n",
       "665  2021-10-30  62239.363281  62330.144531  60918.386719  61888.832031   \n",
       "666  2021-10-31  61850.488281  62406.171875  60074.328125  61318.957031   \n",
       "\n",
       "        Adj Close       Volume  up_down    Mean Score  Mean Magnitude  \n",
       "0     6985.470215  20802083465        1 -7.450581e-10            0.77  \n",
       "1     7344.884277  28111481032        0  2.200000e-01            1.57  \n",
       "2     7410.656738  18444271275        1  1.000000e-01            1.12  \n",
       "3     7411.317383  19725074095        1  2.980232e-09            0.87  \n",
       "4     7769.219238  23276261598        1 -9.999999e-03            0.56  \n",
       "..            ...          ...      ...           ...             ...  \n",
       "662  58482.386719  43657076893        0  1.300000e-01            0.71  \n",
       "663  60622.136719  45257083247        0 -5.000000e-02            0.71  \n",
       "664  62227.964844  36856881767        1  1.300000e-01            0.54  \n",
       "665  61888.832031  32157938616        1 -6.000000e-02            0.92  \n",
       "666  61318.957031  32241199927        0  1.400000e-01            0.63  \n",
       "\n",
       "[667 rows x 10 columns]"
      ]
     },
     "execution_count": 150,
     "metadata": {},
     "output_type": "execute_result"
    }
   ],
   "source": [
    "historical=bitcoin.iloc[:, 2:]\n",
    "historical"
   ]
  },
  {
   "cell_type": "markdown",
   "id": "17d4250e-4419-4b9f-a645-64792ffaca51",
   "metadata": {},
   "source": [
    "This data was stored as '**clean_model.csv**'"
   ]
  },
  {
   "cell_type": "markdown",
   "id": "c8015f68-1bc6-4b47-b2fd-d42badec4fb5",
   "metadata": {},
   "source": [
    "Now that we have our data prepared we will make a plot of *Open* vs *Mean Score* to try to find a relationship between the tiweeter opinion and the price of bitcoin. "
   ]
  },
  {
   "cell_type": "code",
   "execution_count": 80,
   "id": "5ddbb9c1-263e-4482-adf2-2913e97d41fd",
   "metadata": {},
   "outputs": [
    {
     "data": {
      "text/html": [
       "<div>\n",
       "<style scoped>\n",
       "    .dataframe tbody tr th:only-of-type {\n",
       "        vertical-align: middle;\n",
       "    }\n",
       "\n",
       "    .dataframe tbody tr th {\n",
       "        vertical-align: top;\n",
       "    }\n",
       "\n",
       "    .dataframe thead th {\n",
       "        text-align: right;\n",
       "    }\n",
       "</style>\n",
       "<table border=\"1\" class=\"dataframe\">\n",
       "  <thead>\n",
       "    <tr style=\"text-align: right;\">\n",
       "      <th></th>\n",
       "      <th>Unnamed: 0</th>\n",
       "      <th>Date</th>\n",
       "      <th>Open</th>\n",
       "      <th>High</th>\n",
       "      <th>Low</th>\n",
       "      <th>Close</th>\n",
       "      <th>Adj Close</th>\n",
       "      <th>Volume</th>\n",
       "      <th>up_down</th>\n",
       "      <th>Mean Score</th>\n",
       "      <th>Mean Magnitude</th>\n",
       "    </tr>\n",
       "  </thead>\n",
       "  <tbody>\n",
       "    <tr>\n",
       "      <th>0</th>\n",
       "      <td>0</td>\n",
       "      <td>2020-01-02</td>\n",
       "      <td>7202.551270</td>\n",
       "      <td>7212.155273</td>\n",
       "      <td>6935.270020</td>\n",
       "      <td>6985.470215</td>\n",
       "      <td>6985.470215</td>\n",
       "      <td>20802083465</td>\n",
       "      <td>1</td>\n",
       "      <td>-7.450581e-10</td>\n",
       "      <td>0.77</td>\n",
       "    </tr>\n",
       "    <tr>\n",
       "      <th>1</th>\n",
       "      <td>1</td>\n",
       "      <td>2020-01-03</td>\n",
       "      <td>6984.428711</td>\n",
       "      <td>7413.715332</td>\n",
       "      <td>6914.996094</td>\n",
       "      <td>7344.884277</td>\n",
       "      <td>7344.884277</td>\n",
       "      <td>28111481032</td>\n",
       "      <td>0</td>\n",
       "      <td>2.200000e-01</td>\n",
       "      <td>1.57</td>\n",
       "    </tr>\n",
       "    <tr>\n",
       "      <th>2</th>\n",
       "      <td>2</td>\n",
       "      <td>2020-01-04</td>\n",
       "      <td>7345.375488</td>\n",
       "      <td>7427.385742</td>\n",
       "      <td>7309.514160</td>\n",
       "      <td>7410.656738</td>\n",
       "      <td>7410.656738</td>\n",
       "      <td>18444271275</td>\n",
       "      <td>1</td>\n",
       "      <td>1.000000e-01</td>\n",
       "      <td>1.12</td>\n",
       "    </tr>\n",
       "  </tbody>\n",
       "</table>\n",
       "</div>"
      ],
      "text/plain": [
       "   Unnamed: 0        Date         Open         High          Low        Close  \\\n",
       "0           0  2020-01-02  7202.551270  7212.155273  6935.270020  6985.470215   \n",
       "1           1  2020-01-03  6984.428711  7413.715332  6914.996094  7344.884277   \n",
       "2           2  2020-01-04  7345.375488  7427.385742  7309.514160  7410.656738   \n",
       "\n",
       "     Adj Close       Volume  up_down    Mean Score  Mean Magnitude  \n",
       "0  6985.470215  20802083465        1 -7.450581e-10            0.77  \n",
       "1  7344.884277  28111481032        0  2.200000e-01            1.57  \n",
       "2  7410.656738  18444271275        1  1.000000e-01            1.12  "
      ]
     },
     "execution_count": 80,
     "metadata": {},
     "output_type": "execute_result"
    }
   ],
   "source": [
    "data_bitcoin = pd.read_csv('./data/clean_model.csv')\n",
    "data_bitcoin.head(3)"
   ]
  },
  {
   "cell_type": "code",
   "execution_count": 92,
   "id": "c166b6c0-acef-41b1-bc2e-d1a23b575333",
   "metadata": {},
   "outputs": [
    {
     "data": {
      "text/plain": [
       "<seaborn.axisgrid.FacetGrid at 0x7f60de726e90>"
      ]
     },
     "execution_count": 92,
     "metadata": {},
     "output_type": "execute_result"
    },
    {
     "data": {
      "image/png": "[encoded data removed]",
      "text/plain": [
       "<Figure size 360x360 with 1 Axes>"
      ]
     },
     "metadata": {},
     "output_type": "display_data"
    }
   ],
   "source": [
    "import seaborn as sns\n",
    "sns.lmplot(y='Mean Score', x='Open',data=data_bitcoin,fit_reg=True, line_kws={'color': 'red'} )"
   ]
  },
  {
   "cell_type": "markdown",
   "id": "1346b08b-491f-4e52-a22c-fdbdeef5565f",
   "metadata": {},
   "source": [
    "On  first look it seems like the relation is almost none, but we can see a little positive slope."
   ]
  },
  {
   "cell_type": "markdown",
   "id": "c64a7457-5917-4a57-aca6-d0fbd018035b",
   "metadata": {},
   "source": [
    "# First models\n",
    "\n",
    "Here we will explore the relationship between bitcoin price ups and downs and the score obtained from  the sentiment analysis of the  tweets from January 2020 to October 2021"
   ]
  },
  {
   "cell_type": "code",
   "execution_count": 132,
   "id": "11079f7e-8444-436e-b133-725672a14e22",
   "metadata": {},
   "outputs": [],
   "source": [
    "import sklearn \n",
    "from sklearn.model_selection import train_test_split\n",
    "from sklearn.metrics import mean_squared_error, mean_absolute_error, mean_absolute_percentage_error, r2_score\n",
    "\n",
    "from sklearn.tree import DecisionTreeRegressor # Arbol de Decisiones\n",
    "from sklearn.linear_model import Lasso # Regresion Regularizada con Lasso\n",
    "from sklearn.ensemble import RandomForestRegressor # Random Forest\n",
    "from sklearn.linear_model import LogisticRegression\n",
    "from sklearn.tree import DecisionTreeClassifier\n",
    "from sklearn.ensemble import VotingClassifier\n",
    "from sklearn.ensemble import BaggingClassifier\n",
    "from sklearn.ensemble import GradientBoostingClassifier\n",
    "from sklearn.tree import DecisionTreeClassifier\n",
    "from sklearn.naive_bayes import GaussianNB\n",
    "from sklearn.model_selection import train_test_split\n",
    "from sklearn.ensemble import AdaBoostClassifier, RandomForestClassifier\n",
    "\n",
    "\n",
    "#grid serch\n",
    "from sklearn.model_selection import GridSearchCV\n",
    "\n",
    "from sklearn import metrics\n",
    "from sklearn.model_selection import cross_validate\n",
    "from sklearn.metrics import precision_score,log_loss\n"
   ]
  },
  {
   "cell_type": "markdown",
   "id": "c5d091ab-722c-4f74-a5b1-f7c218b884e0",
   "metadata": {},
   "source": [
    "### Data labeling data for ML:\n"
   ]
  },
  {
   "cell_type": "markdown",
   "id": "eb0c946d-6be9-4b4d-8a61-464e9b09b991",
   "metadata": {},
   "source": [
    "We are going to try to find what is the relationship between the rises and falls of the price of bitcoin, using as an explanatory variable the\n",
    "people's confidence in the cryptocurrency (general people's confidence of people measured through sentiment analysis score). We use a linear regression, taking as our variable to predict whether the price of bitcoin went up or down and as an explanatory variable the sentiment analysis score."
   ]
  },
  {
   "cell_type": "code",
   "execution_count": 70,
   "id": "9004d39c-52d1-4e52-a63c-acff45912f71",
   "metadata": {},
   "outputs": [],
   "source": [
    "X=data_bitcoin.iloc[:, 9:11]\n",
    "Y=data_bitcoin['up_down']"
   ]
  },
  {
   "cell_type": "markdown",
   "id": "c4c01d9c-4e05-4ad4-bfc9-d157491aa99f",
   "metadata": {},
   "source": [
    "Spliting training, validation and testing:"
   ]
  },
  {
   "cell_type": "code",
   "execution_count": 71,
   "id": "fd5ee09e-86a3-4905-aa66-756d639d5327",
   "metadata": {},
   "outputs": [
    {
     "name": "stdout",
     "output_type": "stream",
     "text": [
      "533 training samples\n",
      "134 test samples\n"
     ]
    }
   ],
   "source": [
    "x_train, x_test, y_train, y_test = train_test_split(X, Y, test_size=0.2, random_state=42)\n",
    "\n",
    "print(f\"{len(x_train)} training samples\")\n",
    "print(f\"{len(x_test)} test samples\")"
   ]
  },
  {
   "cell_type": "markdown",
   "id": "d07dee28-661a-4d1b-af1a-c1ee88981233",
   "metadata": {},
   "source": [
    "### First simple model: Logistic Regression\n",
    "\n",
    "As our task is a classification problem we will beging by the simpliest model of binary classification with a logistic regresion."
   ]
  },
  {
   "cell_type": "code",
   "execution_count": 72,
   "id": "e3baff89-723d-4622-9614-ee86e897cb46",
   "metadata": {},
   "outputs": [
    {
     "data": {
      "text/plain": [
       "LogisticRegression()"
      ]
     },
     "execution_count": 72,
     "metadata": {},
     "output_type": "execute_result"
    }
   ],
   "source": [
    "model_1 = sklearn.linear_model.LogisticRegression() #creating the model\n",
    "\n",
    "model_1.fit(x_train, y_train) #fiting the data to the model"
   ]
  },
  {
   "cell_type": "markdown",
   "id": "4cd378de-a46d-4d09-acef-56a717b9433a",
   "metadata": {},
   "source": [
    "Now we evaluate the accuracy of our model:"
   ]
  },
  {
   "cell_type": "code",
   "execution_count": 73,
   "id": "c5d91806-f641-484e-9f22-13035dad6229",
   "metadata": {},
   "outputs": [
    {
     "name": "stdout",
     "output_type": "stream",
     "text": [
      "0.4925373134328358\n"
     ]
    }
   ],
   "source": [
    "score = model_1.score(x_test, y_test)\n",
    "print(score)"
   ]
  },
  {
   "cell_type": "markdown",
   "id": "d93e9569-12e8-4cd2-97c4-d89884700d8d",
   "metadata": {},
   "source": [
    "### Second model: Logistic Regression with regularization"
   ]
  },
  {
   "cell_type": "code",
   "execution_count": 74,
   "id": "31034c79-d85c-4f0a-ab65-26c60f0d95ed",
   "metadata": {},
   "outputs": [
    {
     "data": {
      "text/plain": [
       "LogisticRegression(C=1, l1_ratio=0.9, max_iter=1000000, penalty='elasticnet',\n",
       "                   random_state=27, solver='saga')"
      ]
     },
     "execution_count": 74,
     "metadata": {},
     "output_type": "execute_result"
    }
   ],
   "source": [
    "# Grid search over Lasso Regularized Linear Regression\n",
    "\n",
    "model_2 = sklearn.linear_model.LogisticRegression(C=1, penalty='elasticnet', solver='saga', l1_ratio=0.9,random_state=27,max_iter=1000000) #creating the model\n",
    "model_2.fit(x_train, y_train) #fiting the data to the model\n"
   ]
  },
  {
   "cell_type": "code",
   "execution_count": 75,
   "id": "c1d7f6d7-1767-441e-b75e-a2e452cb99ea",
   "metadata": {},
   "outputs": [
    {
     "name": "stdout",
     "output_type": "stream",
     "text": [
      "0.4925373134328358\n"
     ]
    }
   ],
   "source": [
    "score2 = model_2.score(x_test, y_test)\n",
    "print(score2)"
   ]
  },
  {
   "cell_type": "markdown",
   "id": "04aad495-2aa3-44b6-aaf0-ff17ae9b2aba",
   "metadata": {},
   "source": [
    "We thought that using regularization, our model would perform better, but because we are using only a few variables to predict the ups and downs of the price, the regularization was not really helpful. "
   ]
  },
  {
   "cell_type": "markdown",
   "id": "85edfa20-c10c-448a-a381-0f2a5431d41f",
   "metadata": {},
   "source": [
    "### Third model: multiple choice model"
   ]
  },
  {
   "cell_type": "markdown",
   "id": "ea9b1d56-4b00-475a-abf5-d419229736c9",
   "metadata": {},
   "source": [
    "We wanted to explore different models simultaneously, so we tried with Voting Classifier, Gradient Boosting Classifier and Random Forest Classifier and compared them according to theit precision:"
   ]
  },
  {
   "cell_type": "code",
   "execution_count": 77,
   "id": "286ea02b-758d-4f62-ba37-fc4989c8e0c7",
   "metadata": {},
   "outputs": [],
   "source": [
    "GBC=GradientBoostingClassifier(n_estimators=1000, learning_rate=1,\n",
    "                               max_depth=1,random_state=27)\n",
    "RFC = RandomForestClassifier(n_estimators=1000, min_samples_split=2)\n",
    "clf=VotingClassifier([\n",
    "    (\"GBC\",GBC),\n",
    "    ('RFC', RFC)\n",
    "],voting=\"soft\")"
   ]
  },
  {
   "cell_type": "code",
   "execution_count": 79,
   "id": "50a981e4-2f7d-4821-b0d7-1276544f1270",
   "metadata": {},
   "outputs": [
    {
     "name": "stdout",
     "output_type": "stream",
     "text": [
      "----Accuracy----\n",
      "VotingClassifier:   0.54\n",
      "GradientBoostingClassifier:             0.56\n",
      "RandomForestClassifier:         0.60\n"
     ]
    }
   ],
   "source": [
    "print (\"----Accuracy----\")\n",
    "models= clf,GBC, RFC\n",
    "spacing=max([len(models.__class__.__name__) for model in models])+4\n",
    "for model in models:\n",
    "    model.fit(x_train,y_train)\n",
    "    model_score=model.score(x_test, y_test)\n",
    "    model_name=model.__class__.__name__\n",
    "    len_model_name=len(model_name)\n",
    "    print(f\"{model_name}:{model_score:>{spacing - len_model_name}.2f}\")"
   ]
  },
  {
   "cell_type": "markdown",
   "id": "4c381fad-5bdb-4912-8837-659f317314d8",
   "metadata": {},
   "source": [
    "The best model, according to the third model: our final conclussion about these models is that we might train our data with Random Forest Classifier, which had the best precision aproximada de 0.60"
   ]
  },
  {
   "cell_type": "markdown",
   "id": "9f7552f6-64a3-43be-8924-4f6753f83a75",
   "metadata": {},
   "source": [
    "### Future improvements:\n",
    "\n",
    "As we improve our next deliverable, we have the task of collecting more tweets from previous years in order to better train our models, that is, with more and more robust information.\n"
   ]
  },
  {
   "cell_type": "markdown",
   "id": "b16ac554-b7f4-4e26-a759-d06f483050c6",
   "metadata": {},
   "source": [
    "## References:"
   ]
  },
  {
   "cell_type": "markdown",
   "id": "2447d2f0-0713-40b3-988b-30bc41daabb1",
   "metadata": {},
   "source": [
    "* [Sklearn linear regresion](https://scikit-learn.org/stable/modules/generated/sklearn.linear_model.LogisticRegression.html)\n",
    "* [Sentiment Analysis Tutorial Google](https://cloud.google.com/natural-language/docs/sentiment-tutorial)"
   ]
  },
  {
   "cell_type": "code",
   "execution_count": null,
   "id": "83553c2b-470f-4972-b8a6-4db6ef7283cd",
   "metadata": {},
   "outputs": [],
   "source": []
  }
 ],
 "metadata": {
  "environment": {
   "kernel": "python3",
   "name": "common-cpu.m90",
   "type": "gcloud",
   "uri": "gcr.io/deeplearning-platform-release/base-cpu:m90"
  },
  "kernelspec": {
   "display_name": "Python 3",
   "language": "python",
   "name": "python3"
  },
  "language_info": {
   "codemirror_mode": {
    "name": "ipython",
    "version": 3
   },
   "file_extension": ".py",
   "mimetype": "text/x-python",
   "name": "python",
   "nbconvert_exporter": "python",
   "pygments_lexer": "ipython3",
   "version": "3.7.12"
  }
 },
 "nbformat": 4,
 "nbformat_minor": 5
}
